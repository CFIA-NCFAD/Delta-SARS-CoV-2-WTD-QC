{
 "cells": [
  {
   "cell_type": "markdown",
   "metadata": {},
   "source": [
    "# Amino acid mutation matrix and manual pruning phylogenetic tree\n",
    "\n",
    "This notebook was used to \n",
    "\n",
    "1. parse Nextclade amino acid (AA) mutation information into an AA matrix compatible for visualization with [ggtree gheatmap](https://github.com/YuLab-SMU/ggtree/blob/master/R/gheatmap.R) with some code to check if sequence info was missing for certain mutations (i.e. Ns or gaps in the location of a mutation). Only the AA mutations present in the QC WTD sequences were considered and mutations in other sequences were dropped.\n",
    "2. output a manually pruned tree for visualization using BioPython\n",
    "\n",
    "The IQ-TREE tree was rooted on MN908947.3 and then MN908947.3 was pruned to better visualize branch lengths."
   ]
  },
  {
   "cell_type": "code",
   "execution_count": 1,
   "metadata": {},
   "outputs": [],
   "source": [
    "import pandas as pd"
   ]
  },
  {
   "cell_type": "code",
   "execution_count": 2,
   "metadata": {
    "ExecuteTime": {
     "end_time": "2022-02-18T16:01:14.432645Z",
     "start_time": "2022-02-18T16:01:14.397303Z"
    }
   },
   "outputs": [
    {
     "data": {
      "text/html": [
       "<div>\n",
       "<style scoped>\n",
       "    .dataframe tbody tr th:only-of-type {\n",
       "        vertical-align: middle;\n",
       "    }\n",
       "\n",
       "    .dataframe tbody tr th {\n",
       "        vertical-align: top;\n",
       "    }\n",
       "\n",
       "    .dataframe thead th {\n",
       "        text-align: right;\n",
       "    }\n",
       "</style>\n",
       "<table border=\"1\" class=\"dataframe\">\n",
       "  <thead>\n",
       "    <tr style=\"text-align: right;\">\n",
       "      <th></th>\n",
       "      <th>0</th>\n",
       "      <th>1</th>\n",
       "      <th>2</th>\n",
       "      <th>3</th>\n",
       "      <th>4</th>\n",
       "      <th>5</th>\n",
       "      <th>6</th>\n",
       "      <th>7</th>\n",
       "      <th>8</th>\n",
       "    </tr>\n",
       "  </thead>\n",
       "  <tbody>\n",
       "    <tr>\n",
       "      <th>0</th>\n",
       "      <td>MN908947</td>\n",
       "      <td>GenBank</td>\n",
       "      <td>gene</td>\n",
       "      <td>266</td>\n",
       "      <td>13468</td>\n",
       "      <td>.</td>\n",
       "      <td>+</td>\n",
       "      <td>.</td>\n",
       "      <td>gene_name=ORF1a</td>\n",
       "    </tr>\n",
       "    <tr>\n",
       "      <th>1</th>\n",
       "      <td>MN908947</td>\n",
       "      <td>GenBank</td>\n",
       "      <td>gene</td>\n",
       "      <td>13468</td>\n",
       "      <td>21555</td>\n",
       "      <td>.</td>\n",
       "      <td>+</td>\n",
       "      <td>.</td>\n",
       "      <td>gene_name=ORF1b</td>\n",
       "    </tr>\n",
       "    <tr>\n",
       "      <th>2</th>\n",
       "      <td>MN908947</td>\n",
       "      <td>GenBank</td>\n",
       "      <td>gene</td>\n",
       "      <td>25393</td>\n",
       "      <td>26220</td>\n",
       "      <td>.</td>\n",
       "      <td>+</td>\n",
       "      <td>.</td>\n",
       "      <td>gene_name=ORF3a</td>\n",
       "    </tr>\n",
       "    <tr>\n",
       "      <th>3</th>\n",
       "      <td>MN908947</td>\n",
       "      <td>GenBank</td>\n",
       "      <td>gene</td>\n",
       "      <td>21563</td>\n",
       "      <td>25384</td>\n",
       "      <td>.</td>\n",
       "      <td>+</td>\n",
       "      <td>.</td>\n",
       "      <td>gene_name=S</td>\n",
       "    </tr>\n",
       "    <tr>\n",
       "      <th>4</th>\n",
       "      <td>MN908947</td>\n",
       "      <td>GenBank</td>\n",
       "      <td>gene</td>\n",
       "      <td>26245</td>\n",
       "      <td>26472</td>\n",
       "      <td>.</td>\n",
       "      <td>+</td>\n",
       "      <td>.</td>\n",
       "      <td>gene_name=E</td>\n",
       "    </tr>\n",
       "    <tr>\n",
       "      <th>5</th>\n",
       "      <td>MN908947</td>\n",
       "      <td>GenBank</td>\n",
       "      <td>gene</td>\n",
       "      <td>26523</td>\n",
       "      <td>27191</td>\n",
       "      <td>.</td>\n",
       "      <td>+</td>\n",
       "      <td>.</td>\n",
       "      <td>gene_name=M</td>\n",
       "    </tr>\n",
       "    <tr>\n",
       "      <th>6</th>\n",
       "      <td>MN908947</td>\n",
       "      <td>GenBank</td>\n",
       "      <td>gene</td>\n",
       "      <td>27202</td>\n",
       "      <td>27387</td>\n",
       "      <td>.</td>\n",
       "      <td>+</td>\n",
       "      <td>.</td>\n",
       "      <td>gene_name=ORF6</td>\n",
       "    </tr>\n",
       "    <tr>\n",
       "      <th>7</th>\n",
       "      <td>MN908947</td>\n",
       "      <td>GenBank</td>\n",
       "      <td>gene</td>\n",
       "      <td>27394</td>\n",
       "      <td>27759</td>\n",
       "      <td>.</td>\n",
       "      <td>+</td>\n",
       "      <td>.</td>\n",
       "      <td>gene_name=ORF7a</td>\n",
       "    </tr>\n",
       "    <tr>\n",
       "      <th>8</th>\n",
       "      <td>MN908947</td>\n",
       "      <td>GenBank</td>\n",
       "      <td>gene</td>\n",
       "      <td>27756</td>\n",
       "      <td>27887</td>\n",
       "      <td>.</td>\n",
       "      <td>+</td>\n",
       "      <td>.</td>\n",
       "      <td>gene_name=ORF7b</td>\n",
       "    </tr>\n",
       "    <tr>\n",
       "      <th>9</th>\n",
       "      <td>MN908947</td>\n",
       "      <td>GenBank</td>\n",
       "      <td>gene</td>\n",
       "      <td>27894</td>\n",
       "      <td>28259</td>\n",
       "      <td>.</td>\n",
       "      <td>+</td>\n",
       "      <td>.</td>\n",
       "      <td>gene_name=ORF8</td>\n",
       "    </tr>\n",
       "    <tr>\n",
       "      <th>10</th>\n",
       "      <td>MN908947</td>\n",
       "      <td>GenBank</td>\n",
       "      <td>gene</td>\n",
       "      <td>28274</td>\n",
       "      <td>29533</td>\n",
       "      <td>.</td>\n",
       "      <td>+</td>\n",
       "      <td>.</td>\n",
       "      <td>gene_name=N</td>\n",
       "    </tr>\n",
       "    <tr>\n",
       "      <th>11</th>\n",
       "      <td>MN908947</td>\n",
       "      <td>GenBank</td>\n",
       "      <td>gene</td>\n",
       "      <td>28284</td>\n",
       "      <td>28577</td>\n",
       "      <td>.</td>\n",
       "      <td>+</td>\n",
       "      <td>.</td>\n",
       "      <td>gene_name=ORF9b</td>\n",
       "    </tr>\n",
       "  </tbody>\n",
       "</table>\n",
       "</div>"
      ],
      "text/plain": [
       "           0        1     2      3      4  5  6  7                8\n",
       "0   MN908947  GenBank  gene    266  13468  .  +  .  gene_name=ORF1a\n",
       "1   MN908947  GenBank  gene  13468  21555  .  +  .  gene_name=ORF1b\n",
       "2   MN908947  GenBank  gene  25393  26220  .  +  .  gene_name=ORF3a\n",
       "3   MN908947  GenBank  gene  21563  25384  .  +  .      gene_name=S\n",
       "4   MN908947  GenBank  gene  26245  26472  .  +  .      gene_name=E\n",
       "5   MN908947  GenBank  gene  26523  27191  .  +  .      gene_name=M\n",
       "6   MN908947  GenBank  gene  27202  27387  .  +  .   gene_name=ORF6\n",
       "7   MN908947  GenBank  gene  27394  27759  .  +  .  gene_name=ORF7a\n",
       "8   MN908947  GenBank  gene  27756  27887  .  +  .  gene_name=ORF7b\n",
       "9   MN908947  GenBank  gene  27894  28259  .  +  .   gene_name=ORF8\n",
       "10  MN908947  GenBank  gene  28274  29533  .  +  .      gene_name=N\n",
       "11  MN908947  GenBank  gene  28284  28577  .  +  .  gene_name=ORF9b"
      ]
     },
     "execution_count": 2,
     "metadata": {},
     "output_type": "execute_result"
    }
   ],
   "source": [
    "# read Nextclade GFF to get coordinates of genes\n",
    "df_gff = pd.read_table('nextclade-sars-cov-2-dataset/genemap.gff', comment='#', header=None)\n",
    "df_gff"
   ]
  },
  {
   "cell_type": "code",
   "execution_count": 3,
   "metadata": {
    "ExecuteTime": {
     "end_time": "2022-02-18T16:02:19.850750Z",
     "start_time": "2022-02-18T16:02:19.847866Z"
    }
   },
   "outputs": [],
   "source": [
    "df_gff = df_gff.loc[:,[3,4,8]]\n",
    "df_gff.columns = ['start', 'end', 'gene']"
   ]
  },
  {
   "cell_type": "code",
   "execution_count": 4,
   "metadata": {
    "ExecuteTime": {
     "end_time": "2022-02-18T16:54:36.023208Z",
     "start_time": "2022-02-18T16:54:36.014773Z"
    }
   },
   "outputs": [],
   "source": [
    "df_gff.gene = df_gff.gene.str.replace('gene_name=', '').str.strip()"
   ]
  },
  {
   "cell_type": "code",
   "execution_count": 5,
   "metadata": {
    "ExecuteTime": {
     "end_time": "2022-02-18T16:54:36.853704Z",
     "start_time": "2022-02-18T16:54:36.848790Z"
    }
   },
   "outputs": [
    {
     "data": {
      "text/html": [
       "<div>\n",
       "<style scoped>\n",
       "    .dataframe tbody tr th:only-of-type {\n",
       "        vertical-align: middle;\n",
       "    }\n",
       "\n",
       "    .dataframe tbody tr th {\n",
       "        vertical-align: top;\n",
       "    }\n",
       "\n",
       "    .dataframe thead th {\n",
       "        text-align: right;\n",
       "    }\n",
       "</style>\n",
       "<table border=\"1\" class=\"dataframe\">\n",
       "  <thead>\n",
       "    <tr style=\"text-align: right;\">\n",
       "      <th></th>\n",
       "      <th>start</th>\n",
       "      <th>end</th>\n",
       "      <th>gene</th>\n",
       "    </tr>\n",
       "  </thead>\n",
       "  <tbody>\n",
       "    <tr>\n",
       "      <th>0</th>\n",
       "      <td>266</td>\n",
       "      <td>13468</td>\n",
       "      <td>ORF1a</td>\n",
       "    </tr>\n",
       "    <tr>\n",
       "      <th>1</th>\n",
       "      <td>13468</td>\n",
       "      <td>21555</td>\n",
       "      <td>ORF1b</td>\n",
       "    </tr>\n",
       "    <tr>\n",
       "      <th>2</th>\n",
       "      <td>25393</td>\n",
       "      <td>26220</td>\n",
       "      <td>ORF3a</td>\n",
       "    </tr>\n",
       "    <tr>\n",
       "      <th>3</th>\n",
       "      <td>21563</td>\n",
       "      <td>25384</td>\n",
       "      <td>S</td>\n",
       "    </tr>\n",
       "    <tr>\n",
       "      <th>4</th>\n",
       "      <td>26245</td>\n",
       "      <td>26472</td>\n",
       "      <td>E</td>\n",
       "    </tr>\n",
       "    <tr>\n",
       "      <th>5</th>\n",
       "      <td>26523</td>\n",
       "      <td>27191</td>\n",
       "      <td>M</td>\n",
       "    </tr>\n",
       "    <tr>\n",
       "      <th>6</th>\n",
       "      <td>27202</td>\n",
       "      <td>27387</td>\n",
       "      <td>ORF6</td>\n",
       "    </tr>\n",
       "    <tr>\n",
       "      <th>7</th>\n",
       "      <td>27394</td>\n",
       "      <td>27759</td>\n",
       "      <td>ORF7a</td>\n",
       "    </tr>\n",
       "    <tr>\n",
       "      <th>8</th>\n",
       "      <td>27756</td>\n",
       "      <td>27887</td>\n",
       "      <td>ORF7b</td>\n",
       "    </tr>\n",
       "    <tr>\n",
       "      <th>9</th>\n",
       "      <td>27894</td>\n",
       "      <td>28259</td>\n",
       "      <td>ORF8</td>\n",
       "    </tr>\n",
       "    <tr>\n",
       "      <th>10</th>\n",
       "      <td>28274</td>\n",
       "      <td>29533</td>\n",
       "      <td>N</td>\n",
       "    </tr>\n",
       "    <tr>\n",
       "      <th>11</th>\n",
       "      <td>28284</td>\n",
       "      <td>28577</td>\n",
       "      <td>ORF9b</td>\n",
       "    </tr>\n",
       "  </tbody>\n",
       "</table>\n",
       "</div>"
      ],
      "text/plain": [
       "    start    end   gene\n",
       "0     266  13468  ORF1a\n",
       "1   13468  21555  ORF1b\n",
       "2   25393  26220  ORF3a\n",
       "3   21563  25384      S\n",
       "4   26245  26472      E\n",
       "5   26523  27191      M\n",
       "6   27202  27387   ORF6\n",
       "7   27394  27759  ORF7a\n",
       "8   27756  27887  ORF7b\n",
       "9   27894  28259   ORF8\n",
       "10  28274  29533      N\n",
       "11  28284  28577  ORF9b"
      ]
     },
     "execution_count": 5,
     "metadata": {},
     "output_type": "execute_result"
    }
   ],
   "source": [
    "df_gff"
   ]
  },
  {
   "cell_type": "code",
   "execution_count": 6,
   "metadata": {
    "ExecuteTime": {
     "end_time": "2022-02-18T16:54:38.250620Z",
     "start_time": "2022-02-18T16:54:38.246657Z"
    }
   },
   "outputs": [],
   "source": [
    "gff = {row.gene: (row.start, row.end) for row in df_gff.itertuples()}"
   ]
  },
  {
   "cell_type": "code",
   "execution_count": 7,
   "metadata": {
    "ExecuteTime": {
     "end_time": "2022-02-18T16:54:38.432667Z",
     "start_time": "2022-02-18T16:54:38.423959Z"
    }
   },
   "outputs": [
    {
     "data": {
      "text/plain": [
       "{'ORF1a': (266, 13468),\n",
       " 'ORF1b': (13468, 21555),\n",
       " 'ORF3a': (25393, 26220),\n",
       " 'S': (21563, 25384),\n",
       " 'E': (26245, 26472),\n",
       " 'M': (26523, 27191),\n",
       " 'ORF6': (27202, 27387),\n",
       " 'ORF7a': (27394, 27759),\n",
       " 'ORF7b': (27756, 27887),\n",
       " 'ORF8': (27894, 28259),\n",
       " 'N': (28274, 29533),\n",
       " 'ORF9b': (28284, 28577)}"
      ]
     },
     "execution_count": 7,
     "metadata": {},
     "output_type": "execute_result"
    }
   ],
   "source": [
    "gff"
   ]
  },
  {
   "cell_type": "code",
   "execution_count": 8,
   "metadata": {
    "ExecuteTime": {
     "end_time": "2022-02-18T16:04:32.953286Z",
     "start_time": "2022-02-18T16:04:32.951458Z"
    }
   },
   "outputs": [],
   "source": [
    "import re"
   ]
  },
  {
   "cell_type": "code",
   "execution_count": 9,
   "metadata": {
    "ExecuteTime": {
     "end_time": "2022-02-18T16:49:15.387896Z",
     "start_time": "2022-02-18T16:49:15.381578Z"
    }
   },
   "outputs": [],
   "source": [
    "regex_gene_aa_pos_simple = re.compile(r'(\\w+):[a-zA-Z]+(\\d+).*')"
   ]
  },
  {
   "cell_type": "code",
   "execution_count": 10,
   "metadata": {
    "ExecuteTime": {
     "end_time": "2022-02-18T16:49:39.508366Z",
     "start_time": "2022-02-18T16:49:39.502365Z"
    }
   },
   "outputs": [],
   "source": [
    "regex_gene_aa_pos_insertion = re.compile(r'(\\w+):(\\d+).*')"
   ]
  },
  {
   "cell_type": "code",
   "execution_count": 11,
   "metadata": {
    "ExecuteTime": {
     "end_time": "2022-02-18T16:50:09.619894Z",
     "start_time": "2022-02-18T16:50:09.610803Z"
    }
   },
   "outputs": [
    {
     "name": "stdout",
     "output_type": "stream",
     "text": [
      "('ORF1a', '2037')\n"
     ]
    }
   ],
   "source": [
    "mut = 'ORF1a:2037:MRAS'\n",
    "m = regex_gene_aa_pos_simple.match(mut)\n",
    "if m:\n",
    "    print(m.groups())\n",
    "else:\n",
    "    m = regex_gene_aa_pos_insertion.match(mut)\n",
    "    if m:\n",
    "        print(m.groups())"
   ]
  },
  {
   "cell_type": "code",
   "execution_count": 12,
   "metadata": {
    "ExecuteTime": {
     "end_time": "2022-02-18T16:50:25.410579Z",
     "start_time": "2022-02-18T16:50:25.408370Z"
    }
   },
   "outputs": [
    {
     "name": "stdout",
     "output_type": "stream",
     "text": [
      "('ORF1a', '2038')\n"
     ]
    }
   ],
   "source": [
    "m = regex_gene_aa_pos_simple.match('ORF1a:N2038D')\n",
    "if m:\n",
    "    print(m.groups())"
   ]
  },
  {
   "cell_type": "markdown",
   "metadata": {},
   "source": [
    "# Functions to get the nt position from AA mutation\n",
    "\n",
    "From `{gene}:*{aa_position}*` to reference nucleotide position range for AA position.\n",
    "\n",
    "For example `ORF1a:V23D` will map to a nucleotide from 332 to 335 (actual nt change T333A).\n",
    "\n",
    "The `get_gene_nt_coords` will not work for frameshift mutations, however, but there's only one in the results."
   ]
  },
  {
   "cell_type": "code",
   "execution_count": 13,
   "metadata": {
    "ExecuteTime": {
     "end_time": "2022-02-18T17:01:54.231072Z",
     "start_time": "2022-02-18T17:01:54.224530Z"
    }
   },
   "outputs": [],
   "source": [
    "from typing import Dict, Tuple, List\n",
    "\n",
    "def split_mut(aamut: str) -> (str, int):\n",
    "    m = regex_gene_aa_pos_simple.match(aamut)\n",
    "    if m:\n",
    "        gene, aa_pos = m.groups()\n",
    "        return gene, int(aa_pos)\n",
    "    else:\n",
    "        m = regex_gene_aa_pos_insertion.match(aamut)\n",
    "        if m:\n",
    "            gene, aa_pos = m.groups()\n",
    "            return gene, int(aa_pos)\n",
    "        else:\n",
    "            raise ValueError(f'Could not parse gene and AA position from {aamut}')\n",
    "\n",
    "def get_gene_nt_coords(gff: Dict[str, Tuple[int, int]], gene: str, aa_pos: int) -> (int, int):\n",
    "    if gene not in gff:\n",
    "        raise ValueError(f'No gene {gene} in gene coordinate dict: {gff}')\n",
    "    start, end = gff.get(gene)\n",
    "    end_nt = aa_pos * 3 + start\n",
    "    start_nt = end_nt - 3\n",
    "    return start_nt, end_nt\n",
    "    "
   ]
  },
  {
   "cell_type": "code",
   "execution_count": 14,
   "metadata": {
    "ExecuteTime": {
     "end_time": "2022-02-18T17:20:07.586405Z",
     "start_time": "2022-02-18T17:20:07.580026Z"
    }
   },
   "outputs": [],
   "source": [
    "aa_nt_muts = '''\n",
    "ORF1a:V23D (T333A)\n",
    "ORF1a:E159A (A741C)\n",
    "ORF1a:T265I (C1059T)\n",
    "ORF1a:M297V (A1154G)\n",
    "ORF1a:H325Q (T1240A)\n",
    "ORF1a:T619S (C2121G)\n",
    "ORF1a:T708I (C2388T)\n",
    "ORF1a:A735 (T2463TA [FRAMESHIFT])\n",
    "ORF1a:D1289 (GA4130G [FRAMESHIFT])\n",
    "ORF1a:V1290A (T4134C)\n",
    "ORF1a:A1314V (C4206T)\n",
    "ORF1a:A1809 (G5690GA [FRAMESHIFT])\n",
    "ORF1a:L3116F (C9611T)\n",
    "ORF1a:S3149F (CC9711TT)\n",
    "ORF1a:K3353R (A10323G)\n",
    "ORF1a:D3972V (A12180T)\n",
    "ORF1a:V3976 (G12188GTT [FRAMESHIFT])\n",
    "ORF1a:S3983F (C12213T)\n",
    "ORF1a:C4326R (T13241C)\n",
    "ORF1a:M4390T (T13434C)\n",
    "ORF1b:R524C (C15037T)\n",
    "ORF1b:V1271L (G17278T)\n",
    "ORF1b:M1693I (G18546T)\n",
    "ORF1b:P1727S (C18646T)\n",
    "ORF1b:I2303V (A20374G)\n",
    "ORF1b:A2469del (GTGC20870G [disruptive_inframe_deletion])\n",
    "ORF1b:K2579R (A21203G)\n",
    "S:F486L (T23020G)\n",
    "S:N501T (A23064C)\n",
    "S:D614G (A23403G)\n",
    "S:S640F (C23481T)\n",
    "S:S1003 (CA24566C [FRAMESHIFT])\n",
    "S:M1237 (GTA25269G [FRAMESHIFT])\n",
    "ORF3a:T12I (C25427T)\n",
    "ORF3a:L219V (T26047G)\n",
    "E:P71S (C26455T)\n",
    "ORF8:D35Y (G27996T)\n",
    "ORF8:E106* (G28209T)\n",
    "N:P168S (C28775T)\n",
    "N:S206P (T28889C)\n",
    "N:T391I (C29445T)\n",
    "ORF1a:S3983F (C12213T)\n",
    "S:L1004S (T24573C)\n",
    "S:A1070 (G24770GA [FRAMESHIFT])\n",
    "S:A1070E (C24771A)\n",
    "S:Q1071K (C24773A)\n",
    "S:E1072K (G24776A)\n",
    "E:P71S (C26455T)\n",
    "ORF8:E106* (G28209T)\n",
    "N:P168S (C28775T)\n",
    "ORF1a:T265I (C1059T)\n",
    "ORF1a:Y369 (TA1370T [FRAMESHIFT])\n",
    "ORF1a:T708I (C2388T)\n",
    "'''.strip().split('\\n')"
   ]
  },
  {
   "cell_type": "code",
   "execution_count": 15,
   "metadata": {
    "ExecuteTime": {
     "end_time": "2022-02-18T17:20:07.803519Z",
     "start_time": "2022-02-18T17:20:07.787388Z"
    }
   },
   "outputs": [
    {
     "name": "stdout",
     "output_type": "stream",
     "text": [
      "ORF1a:V23D (T333A)\n",
      "ORF1a 23\n",
      "(332, 335)\n",
      "ORF1a:E159A (A741C)\n",
      "ORF1a 159\n",
      "(740, 743)\n",
      "ORF1a:T265I (C1059T)\n",
      "ORF1a 265\n",
      "(1058, 1061)\n",
      "ORF1a:M297V (A1154G)\n",
      "ORF1a 297\n",
      "(1154, 1157)\n",
      "ORF1a:H325Q (T1240A)\n",
      "ORF1a 325\n",
      "(1238, 1241)\n",
      "ORF1a:T619S (C2121G)\n",
      "ORF1a 619\n",
      "(2120, 2123)\n",
      "ORF1a:T708I (C2388T)\n",
      "ORF1a 708\n",
      "(2387, 2390)\n",
      "ORF1a:A735 (T2463TA [FRAMESHIFT])\n",
      "ORF1a 735\n",
      "(2468, 2471)\n",
      "ORF1a:D1289 (GA4130G [FRAMESHIFT])\n",
      "ORF1a 1289\n",
      "(4130, 4133)\n",
      "ORF1a:V1290A (T4134C)\n",
      "ORF1a 1290\n",
      "(4133, 4136)\n",
      "ORF1a:A1314V (C4206T)\n",
      "ORF1a 1314\n",
      "(4205, 4208)\n",
      "ORF1a:A1809 (G5690GA [FRAMESHIFT])\n",
      "ORF1a 1809\n",
      "(5690, 5693)\n",
      "ORF1a:L3116F (C9611T)\n",
      "ORF1a 3116\n",
      "(9611, 9614)\n",
      "ORF1a:S3149F (CC9711TT)\n",
      "ORF1a 3149\n",
      "(9710, 9713)\n",
      "ORF1a:K3353R (A10323G)\n",
      "ORF1a 3353\n",
      "(10322, 10325)\n",
      "ORF1a:D3972V (A12180T)\n",
      "ORF1a 3972\n",
      "(12179, 12182)\n",
      "ORF1a:V3976 (G12188GTT [FRAMESHIFT])\n",
      "ORF1a 3976\n",
      "(12191, 12194)\n",
      "ORF1a:S3983F (C12213T)\n",
      "ORF1a 3983\n",
      "(12212, 12215)\n",
      "ORF1a:C4326R (T13241C)\n",
      "ORF1a 4326\n",
      "(13241, 13244)\n",
      "ORF1a:M4390T (T13434C)\n",
      "ORF1a 4390\n",
      "(13433, 13436)\n",
      "ORF1b:R524C (C15037T)\n",
      "ORF1b 524\n",
      "(15037, 15040)\n",
      "ORF1b:V1271L (G17278T)\n",
      "ORF1b 1271\n",
      "(17278, 17281)\n",
      "ORF1b:M1693I (G18546T)\n",
      "ORF1b 1693\n",
      "(18544, 18547)\n",
      "ORF1b:P1727S (C18646T)\n",
      "ORF1b 1727\n",
      "(18646, 18649)\n",
      "ORF1b:I2303V (A20374G)\n",
      "ORF1b 2303\n",
      "(20374, 20377)\n",
      "ORF1b:A2469del (GTGC20870G [disruptive_inframe_deletion])\n",
      "ORF1b 2469\n",
      "(20872, 20875)\n",
      "ORF1b:K2579R (A21203G)\n",
      "ORF1b 2579\n",
      "(21202, 21205)\n",
      "S:F486L (T23020G)\n",
      "S 486\n",
      "(23018, 23021)\n",
      "S:N501T (A23064C)\n",
      "S 501\n",
      "(23063, 23066)\n",
      "S:D614G (A23403G)\n",
      "S 614\n",
      "(23402, 23405)\n",
      "S:S640F (C23481T)\n",
      "S 640\n",
      "(23480, 23483)\n",
      "S:S1003 (CA24566C [FRAMESHIFT])\n",
      "S 1003\n",
      "(24569, 24572)\n",
      "S:M1237 (GTA25269G [FRAMESHIFT])\n",
      "S 1237\n",
      "(25271, 25274)\n",
      "ORF3a:T12I (C25427T)\n",
      "ORF3a 12\n",
      "(25426, 25429)\n",
      "ORF3a:L219V (T26047G)\n",
      "ORF3a 219\n",
      "(26047, 26050)\n",
      "E:P71S (C26455T)\n",
      "E 71\n",
      "(26455, 26458)\n",
      "ORF8:D35Y (G27996T)\n",
      "ORF8 35\n",
      "(27996, 27999)\n",
      "ORF8:E106* (G28209T)\n",
      "ORF8 106\n",
      "(28209, 28212)\n",
      "N:P168S (C28775T)\n",
      "N 168\n",
      "(28775, 28778)\n",
      "N:S206P (T28889C)\n",
      "N 206\n",
      "(28889, 28892)\n",
      "N:T391I (C29445T)\n",
      "N 391\n",
      "(29444, 29447)\n",
      "ORF1a:S3983F (C12213T)\n",
      "ORF1a 3983\n",
      "(12212, 12215)\n",
      "S:L1004S (T24573C)\n",
      "S 1004\n",
      "(24572, 24575)\n",
      "S:A1070 (G24770GA [FRAMESHIFT])\n",
      "S 1070\n",
      "(24770, 24773)\n",
      "S:A1070E (C24771A)\n",
      "S 1070\n",
      "(24770, 24773)\n",
      "S:Q1071K (C24773A)\n",
      "S 1071\n",
      "(24773, 24776)\n",
      "S:E1072K (G24776A)\n",
      "S 1072\n",
      "(24776, 24779)\n",
      "E:P71S (C26455T)\n",
      "E 71\n",
      "(26455, 26458)\n",
      "ORF8:E106* (G28209T)\n",
      "ORF8 106\n",
      "(28209, 28212)\n",
      "N:P168S (C28775T)\n",
      "N 168\n",
      "(28775, 28778)\n",
      "ORF1a:T265I (C1059T)\n",
      "ORF1a 265\n",
      "(1058, 1061)\n",
      "ORF1a:Y369 (TA1370T [FRAMESHIFT])\n",
      "ORF1a 369\n",
      "(1370, 1373)\n",
      "ORF1a:T708I (C2388T)\n",
      "ORF1a 708\n",
      "(2387, 2390)\n"
     ]
    }
   ],
   "source": [
    "for aant_mut in aa_nt_muts:\n",
    "    if ':' not in aant_mut:\n",
    "        continue\n",
    "    print(aant_mut)\n",
    "    aamut, ntmut = aant_mut.split(' ', maxsplit=1)\n",
    "    gene, aapos = split_mut(aamut)\n",
    "    print(gene, aapos)\n",
    "    print(get_gene_nt_coords(gff, gene, aapos))"
   ]
  },
  {
   "cell_type": "code",
   "execution_count": 16,
   "metadata": {},
   "outputs": [
    {
     "name": "stdout",
     "output_type": "stream",
     "text": [
      "index\tseqName\tclade\tNextclade_pango\tpartiallyAliased\tclade_nextstrain\tclade_who\tclade_legacy\tqc.overallScore\tqc.overallStatus\ttotalSubstitutions\ttotalDeletions\ttotalInsertions\ttotalFrameShifts\ttotalMissing\ttotalNonACGTNs\ttotalAminoacidSubstitutions\ttotalAminoacidDeletions\ttotalAminoacidInsertions\ttotalUnknownAa\talignmentScore\talignmentStart\talignmentEnd\tcoverage\tisReverseComplement\tsubstitutions\tdeletions\tinsertions\tframeShifts\taaSubstitutions\taaDeletions\taaInsertions\tprivateNucMutations.reversionSubstitutions\tprivateNucMutations.labeledSubstitutions\tprivateNucMutations.unlabeledSubstitutions\tprivateNucMutations.totalReversionSubstitutions\tprivateNucMutations.totalLabeledSubstitutions\tprivateNucMutations.totalUnlabeledSubstitutions\tprivateNucMutations.totalPrivateSubstitutions\tmissing\tunknownAaRanges\tnonACGTNs\tqc.missingData.missingDataThreshold\tqc.missingData.score\tqc.missingData.status\tqc.missingData.totalMissing\tqc.mixedSites.mixedSitesThreshold\tqc.mixedSites.score\tqc.mixedSites.status\tqc.mixedSites.totalMixedSites\tqc.privateMutations.cutoff\tqc.privateMutations.excess\tqc.privateMutations.score\tqc.privateMutations.status\tqc.privateMutations.total\tqc.snpClusters.clusteredSNPs\tqc.snpClusters.score\tqc.snpClusters.status\tqc.snpClusters.totalSNPs\tqc.frameShifts.frameShifts\tqc.frameShifts.totalFrameShifts\tqc.frameShifts.frameShiftsIgnored\tqc.frameShifts.totalFrameShiftsIgnored\tqc.frameShifts.score\tqc.frameShifts.status\tqc.stopCodons.stopCodons\tqc.stopCodons.totalStopCodons\tqc.stopCodons.score\tqc.stopCodons.status\ttotalPcrPrimerChanges\tpcrPrimerChanges\tfailedGenes\twarnings\terrors\r\n",
      "15\tMZ839391.1\t21J\tAY.44\tB.1.617.2.44\t21J\tDelta\t21J (Delta)\t28.666516\tgood\t42\t7\t0\t0\t817\t0\t34\t2\t0\t274\t89420\t30\t29903\t0.9717085242283383\tfalse\tG210T,C241T,C3037T,G4181T,C6040T,C6070T,C6402T,C6638T,C7124T,C7926T,C8986T,G9053T,C10029T,A11201G,A11332G,C13673T,T14014G,C14408T,G15451A,C16466T,C16726T,C19220T,C21618G,T22917G,C22995A,A23403G,C23604G,G24410A,G24815A,C25469T,G25793A,T26767C,T27638C,C27752T,C27874T,G28073T,A28461G,G28881T,G28916T,G29402T,A29700G,G29742T\t28248-28253,28271\t\t\tM:I82T,N:D63G,N:R203M,N:G215C,N:D377Y,ORF1a:A1306S,ORF1a:P2046L,ORF1a:H2125Y,ORF1a:P2287S,ORF1a:A2554V,ORF1a:V2930L,ORF1a:T3255I,ORF1a:T3646A,ORF1b:S69F,ORF1b:F183V,ORF1b:P314L,ORF1b:G662S,ORF1b:P1000L,ORF1b:H1087Y,ORF1b:A1918V,ORF3a:S26L,ORF3a:R134H,ORF7a:V82A,ORF7a:T120I,ORF7b:T40I,ORF8:L60F,ORF9b:T60A,S:T19R,S:L452R,S:T478K,S:D614G,S:P681R,S:D950N,S:G1085R\tORF8:D119-,ORF8:F120-\t\t\tC6638T|21J,C7926T|21J,C16726T|21J,G28073T|21J\tC6070T,C13673T,G24815A,G25793A\t0\t4\t4\t8\t19299-19570,21717-22261\tORF1b:1944-2035,S:52-233\t\t3000\t19.148148\tgood\t817\t10\t0\tgood\t0\t24\t12\t50\tmediocre\t20\t\t0\tgood\t0\t\t0\t\t0\t0\tgood\t\t0\t0\tgood\t2\tCharité_RdRp_F:G15451A,ChinaCDC_N_F:G28881T\t\t\t\r\n",
      "4\tUSA/CT-Yale-12907/2021\t21J\tAY.44\tB.1.617.2.44\t21J\tDelta\t21J (Delta)\t76.633611\tmediocre\t52\t13\t0\t0\t372\t0\t41\t4\t0\t125\t89207\t3\t29827\t0.984951342674648\tfalse\tG210T,C241T,C3037T,G4181T,C6040T,C6070T,C6402T,C6638T,C7124T,C7926T,C8986T,G9053T,C10029T,C10702T,C11173T,A11201G,A11332G,A11822G,C13673T,T14014G,C14408T,G15451A,C16466T,C16726T,C18888T,C19220T,C21618G,G21987A,T22917G,C22995A,A23403G,C23604G,G24410A,G24815A,C25469T,C25669T,G25785T,G25793A,T26767C,T27638C,C27752T,C27874T,G28073T,A28384T,A28461G,G28881T,G28916T,T29021G,G29402T,A29700G,G29711T,G29742T\t22029-22034,28248-28253,28271\t\t\tM:I82T,N:D63G,N:R203M,N:G215C,N:S250A,N:D377Y,ORF1a:A1306S,ORF1a:P2046L,ORF1a:H2125Y,ORF1a:P2287S,ORF1a:A2554V,ORF1a:V2930L,ORF1a:T3255I,ORF1a:T3646A,ORF1a:I3853V,ORF1b:S69F,ORF1b:F183V,ORF1b:P314L,ORF1b:G662S,ORF1b:P1000L,ORF1b:H1087Y,ORF1b:A1918V,ORF3a:S26L,ORF3a:H93Y,ORF3a:W131C,ORF3a:R134H,ORF7a:V82A,ORF7a:T120I,ORF7b:T40I,ORF8:L60F,ORF9b:Q34L,ORF9b:T60A,S:T19R,S:G142D,S:R158G,S:L452R,S:T478K,S:D614G,S:P681R,S:D950N,S:G1085R\tORF8:D119-,ORF8:F120-,S:E156-,S:F157-\t\t\tC6638T|21J,C7926T|21J,C16726T|21J,G28073T|21J\tC6070T,C10702T,C11173T,A11822G,C13673T,C18888T,G24815A,C25669T,G25785T,G25793A,A28384T,T29021G,G29711T\t0\t4\t13\t17\t6860-7084,24546-24658,24716-24723,24747-24772\tORF1a:2199-2273,S:995-1032,S:1052-1054,S:1062-1070\t\t3000\t2.666667\tgood\t372\t10\t0\tgood\t0\t24\t21\t87.500000\tmediocre\t29\t\t0\tgood\t0\t\t0\t\t0\t0\tgood\t\t0\t0\tgood\t2\tCharité_RdRp_F:G15451A,ChinaCDC_N_F:G28881T\t\t\t\r\n",
      "7\tMZ778136.1\t21J\tAY.44\tB.1.617.2.44\t21J\tDelta\t21J (Delta)\t44.444444\tmediocre\t44\t13\t0\t0\t179\t0\t37\t4\t0\t63\t89386\t30\t29903\t0.993044176169615\tfalse\tG210T,C241T,C3037T,G4181T,C6040T,C6070T,C6402T,C6638T,C7124T,C7851T,C7926T,C8986T,G9053T,C10029T,A11201G,A11332G,C13673T,T14014G,C14408T,G15451A,C16466T,C16726T,C19220T,C21618G,G21987A,T22917G,C22995A,A23403G,C23604G,G24410A,G24815A,C25469T,G25793A,T26767C,T27638C,C27752T,C27874T,G28073T,A28461G,G28881T,G28916T,G29402T,A29700G,G29742T\t22029-22034,28248-28253,28271\t\t\tM:I82T,N:D63G,N:R203M,N:G215C,N:D377Y,ORF1a:A1306S,ORF1a:P2046L,ORF1a:H2125Y,ORF1a:P2287S,ORF1a:A2529V,ORF1a:A2554V,ORF1a:V2930L,ORF1a:T3255I,ORF1a:T3646A,ORF1b:S69F,ORF1b:F183V,ORF1b:P314L,ORF1b:G662S,ORF1b:P1000L,ORF1b:H1087Y,ORF1b:A1918V,ORF3a:S26L,ORF3a:R134H,ORF7a:V82A,ORF7a:T120I,ORF7b:T40I,ORF8:L60F,ORF9b:T60A,S:T19R,S:G142D,S:R158G,S:L452R,S:T478K,S:D614G,S:P681R,S:D950N,S:G1085R\tORF8:D119-,ORF8:F120-,S:E156-,S:F157-\t\t\tC6638T|21J,C7851T|21J,C7926T|21J,C16726T|21J,G28073T|21J\tC6070T,C13673T,G24815A,G25793A\t0\t5\t4\t9\t19299-19364,19367-19404,19408-19420,19430-19431,19511-19570\tORF1b:1944-1979,ORF1b:1981-1985,ORF1b:1988,ORF1b:2015-2035\t\t3000\t0\tgood\t179\t10\t0\tgood\t0\t24\t16\t66.666667\tmediocre\t24\t\t0\tgood\t0\t\t0\t\t0\t0\tgood\t\t0\t0\tgood\t2\tCharité_RdRp_F:G15451A,ChinaCDC_N_F:G28881T\t\t\t\r\n",
      "2\tQC-4205\t21J\tAY.44\tB.1.617.2.44\t21J\tDelta\t21J (Delta)\t250.184242\tbad\t63\t34\t0\t0\t1255\t0\t48\t11\t0\t382\t89326\t1\t29903\t0.9580309667926296\tfalse\tG210T,C241T,C3037T,G3692T,G4181T,G5617T,C5822T,C6040T,C6070T,C6402T,C6638T,C6990T,C7124T,C7926T,C8733T,C8986T,G9053T,C9611T,C10029T,G11083T,A11201G,A11332G,C13665T,C13673T,T14014G,C14408T,G15451A,C16466T,C16726T,A17959G,C19011T,C19220T,C19572T,C20589T,C21618G,C21627T,T22917G,C22995A,A23403G,C23604G,G24410A,G24815A,C25427T,C25469T,G25793A,C26151T,C26509T,T26767C,C26873T,T27134C,C27509T,T27638C,C27752T,C27765T,C27874T,A28095T,A28461G,G28881T,G28916T,C29296T,G29402T,A29700G,G29742T\t22029-22034,28073-28093,28248-28253,28271\t\t\tM:I82T,N:D63G,N:R203M,N:G215C,N:D377Y,ORF1a:V1143F,ORF1a:A1306S,ORF1a:Q1784H,ORF1a:L1853F,ORF1a:P2046L,ORF1a:H2125Y,ORF1a:S2242F,ORF1a:P2287S,ORF1a:A2554V,ORF1a:T2823I,ORF1a:V2930L,ORF1a:L3116F,ORF1a:T3255I,ORF1a:L3606F,ORF1a:T3646A,ORF1b:S69F,ORF1b:F183V,ORF1b:P314L,ORF1b:G662S,ORF1b:P1000L,ORF1b:H1087Y,ORF1b:I1498V,ORF1b:A1918V,ORF3a:T12I,ORF3a:S26L,ORF3a:R134H,ORF7a:T39I,ORF7a:V82A,ORF7a:T120I,ORF7b:L4F,ORF7b:T40I,ORF8:S67F,ORF8:K68*,ORF9b:T60A,S:T19R,S:T22I,S:R158G,S:L452R,S:T478K,S:D614G,S:P681R,S:D950N,S:G1085R\tORF8:L60-,ORF8:C61-,ORF8:V62-,ORF8:D63-,ORF8:E64-,ORF8:A65-,ORF8:G66-,ORF8:D119-,ORF8:F120-,S:E156-,S:F157-\t\t\tC6638T|21J,C7926T|21J,G11083T|21J&19A,C16726T|21J,A28095T|20I\tG3692T,G5617T,C5822T,C6070T,C6990T,C8733T,C9611T,C13665T,C13673T,A17959G,C19011T,C19572T,C20589T,C21627T,G24815A,C25427T,G25793A,C26151T,C26509T,C26873T,T27134C,C27509T,C27765T,C29296T\t0\t5\t24\t29\t1-54,13379-13625,19276-19570,21717-21990,22325-22542,23006-23010,23050-23144,29837-29903\tORF1a:4372-4401,ORF1b:1-53,ORF1b:1937-2035,S:52-143,S:255-327,S:482-483,S:496-528\t\t3000\t35.370370\tmediocre\t1255\t10\t0\tgood\t0\t24\t37\t154.166667\tbad\t45\t\t0\tgood\t0\t\t0\t\t0\t0\tgood\t\t0\t0\tgood\t2\tCharité_RdRp_F:G15451A,ChinaCDC_N_F:G28881T\t\t\t\r\n",
      "8\tMZ801696.1\t21J\tAY.44\tB.1.617.2.44\t21J\tDelta\t21J (Delta)\t30.861389\tmediocre\t43\t13\t0\t0\t633\t0\t36\t4\t0\t215\t89390\t30\t29903\t0.9778617530013711\tfalse\tG210T,C241T,C3037T,G4181T,C6040T,C6070T,C6402T,C6638T,C7124T,C7926T,C8986T,G9053T,C10029T,A11201G,A11332G,C13673T,T14014G,C14177T,C14408T,G15451A,C16466T,C16726T,C19220T,C21618G,T22917G,C22995A,A23403G,C23604G,G24410A,G24815A,C25469T,G25793A,T26767C,T27638C,C27752T,C27874T,G28073T,A28461G,G28881T,G28916T,G29402T,A29700G,G29742T\t22029-22034,28248-28253,28271\t\t\tM:I82T,N:D63G,N:R203M,N:G215C,N:D377Y,ORF1a:A1306S,ORF1a:P2046L,ORF1a:H2125Y,ORF1a:P2287S,ORF1a:A2554V,ORF1a:V2930L,ORF1a:T3255I,ORF1a:T3646A,ORF1b:S69F,ORF1b:F183V,ORF1b:T237I,ORF1b:P314L,ORF1b:G662S,ORF1b:P1000L,ORF1b:H1087Y,ORF1b:A1918V,ORF3a:S26L,ORF3a:R134H,ORF7a:V82A,ORF7a:T120I,ORF7b:T40I,ORF8:L60F,ORF9b:T60A,S:T19R,S:R158G,S:L452R,S:T478K,S:D614G,S:P681R,S:D950N,S:G1085R\tORF8:D119-,ORF8:F120-,S:E156-,S:F157-\t\t\tC6638T|21J,C7926T|21J,C16726T|21J,G28073T|21J\tC6070T,C13673T,C14177T,G24815A,G25793A\t0\t4\t5\t9\t47-54,6847-6861,6869-6871,6874-6879,6881-6885,6977-6978,19276-19570,21717-21996,22255-22261,22264-22271,22287-22290\tORF1a:2194-2199,ORF1a:2202-2207,ORF1a:2238,ORF1b:1937-2035,S:52-145,S:231-237,S:242-243\t\t3000\t12.333333\tgood\t633\t10\t0\tgood\t0\t24\t13\t54.166667\tmediocre\t21\t\t0\tgood\t0\t\t0\t\t0\t0\tgood\t\t0\t0\tgood\t3\tCharité_RdRp_F:G15451A,ChinaCDC_N_F:G28881T,Pasteur_IP4_R:C14177T\t\t\t\r\n",
      "14\tMZ831171.1\t21J\tAY.44\tB.1.617.2.44\t21J\tDelta\t21J (Delta)\t29.535322\tgood\t42\t7\t0\t0\t875\t0\t34\t2\t0\t295\t89420\t30\t29903\t0.9697689195064041\tfalse\tG210T,C241T,C3037T,G4181T,C6040T,C6070T,C6402T,C6638T,C7124T,C7926T,C8986T,G9053T,C10029T,A11201G,A11332G,C13673T,T14014G,C14408T,G15451A,C16466T,C16726T,C19220T,C21618G,T22917G,C22995A,A23403G,C23604G,G24410A,G24815A,C25469T,G25793A,T26767C,T27638C,C27752T,C27874T,G28073T,A28461G,G28881T,G28916T,G29402T,A29700G,G29742T\t28248-28253,28271\t\t\tM:I82T,N:D63G,N:R203M,N:G215C,N:D377Y,ORF1a:A1306S,ORF1a:P2046L,ORF1a:H2125Y,ORF1a:P2287S,ORF1a:A2554V,ORF1a:V2930L,ORF1a:T3255I,ORF1a:T3646A,ORF1b:S69F,ORF1b:F183V,ORF1b:P314L,ORF1b:G662S,ORF1b:P1000L,ORF1b:H1087Y,ORF1b:A1918V,ORF3a:S26L,ORF3a:R134H,ORF7a:V82A,ORF7a:T120I,ORF7b:T40I,ORF8:L60F,ORF9b:T60A,S:T19R,S:L452R,S:T478K,S:D614G,S:P681R,S:D950N,S:G1085R\tORF8:D119-,ORF8:F120-\t\t\tC6638T|21J,C7926T|21J,C16726T|21J,G28073T|21J\tC6070T,C13673T,G24815A,G25793A\t0\t4\t4\t8\t6876-6878,6885-6952,6954-6967,19299-19570,21744-22261\tORF1a:2204-2205,ORF1a:2207-2234,ORF1b:1944-2035,S:61-233\t\t3000\t21.296296\tgood\t875\t10\t0\tgood\t0\t24\t12\t50\tmediocre\t20\t\t0\tgood\t0\t\t0\t\t0\t0\tgood\t\t0\t0\tgood\t2\tCharité_RdRp_F:G15451A,ChinaCDC_N_F:G28881T\t\t\t\r\n",
      "13\tMZ831164.1\t21J\tAY.44\tB.1.617.2.44\t21J\tDelta\t21J (Delta)\t55.087257\tmediocre\t41\t7\t0\t0\t1781\t0\t35\t2\t0\t600\t89424\t30\t29903\t0.9394709560913621\tfalse\tG210T,C241T,C3037T,G4181T,C6402T,C6638T,C7124T,C7926T,C8986T,G9053T,C10029T,A11201G,A11332G,C13673T,T14014G,C14408T,G15451A,C16466T,C16726T,C19220T,T21594C,C21618G,T22917G,C22995A,A23403G,C23604G,G24410A,G24815A,C25469T,G25793A,T26767C,T27638C,C27752T,C27874T,G28073T,A28461G,G28881T,G28916T,G29402T,A29700G,G29742T\t28248-28253,28271\t\t\tM:I82T,N:D63G,N:R203M,N:G215C,N:D377Y,ORF1a:A1306S,ORF1a:P2046L,ORF1a:H2125Y,ORF1a:P2287S,ORF1a:A2554V,ORF1a:V2930L,ORF1a:T3255I,ORF1a:T3646A,ORF1b:S69F,ORF1b:F183V,ORF1b:P314L,ORF1b:G662S,ORF1b:P1000L,ORF1b:H1087Y,ORF1b:A1918V,ORF3a:S26L,ORF3a:R134H,ORF7a:V82A,ORF7a:T120I,ORF7b:T40I,ORF8:L60F,ORF9b:T60A,S:V11A,S:T19R,S:L452R,S:T478K,S:D614G,S:P681R,S:D950N,S:G1085R\tORF8:D119-,ORF8:F120-\t\t\tC6638T|21J,C7926T|21J,C16726T|21J,G28073T|21J\tC13673T,T21594C,G24815A,G25793A\t0\t4\t4\t8\t2271-2528,5961-6164,6847-7058,19299-19570,19912-20200,21717-22262\tORF1a:669-755,ORF1a:1899-1967,ORF1a:2194-2265,ORF1b:1944-2035,ORF1b:2149-2245,S:52-234\t\t3000\t54.851852\tmediocre\t1781\t10\t0\tgood\t0\t24\t12\t50\tmediocre\t20\t\t0\tgood\t0\t\t0\t\t0\t0\tgood\t\t0\t0\tgood\t2\tCharité_RdRp_F:G15451A,ChinaCDC_N_F:G28881T\t\t\t\r\n",
      "6\tMZ778090.1\t21J\tAY.44\tB.1.617.2.44\t21J\tDelta\t21J (Delta)\t25.368944\tgood\t42\t13\t0\t0\t464\t0\t35\t4\t0\t157\t89319\t55\t29903\t0.9826773233454837\tfalse\tG210T,C241T,C3037T,G4181T,C6040T,C6070T,C6402T,C6638T,C7124T,C7926T,C8986T,G9053T,C10029T,A11201G,A11332G,C13673T,T14014G,C14408T,G15451A,C16466T,C16726T,C19220T,C21618G,T22917G,C22995A,A23403G,C23604G,G24410A,G24815A,C25469T,G25793A,T26767C,T27638C,C27752T,C27874T,G28073T,A28461G,G28881T,G28916T,G29402T,A29700G,G29742T\t22029-22034,28248-28253,28271\t\t\tM:I82T,N:D63G,N:R203M,N:G215C,N:D377Y,ORF1a:A1306S,ORF1a:P2046L,ORF1a:H2125Y,ORF1a:P2287S,ORF1a:A2554V,ORF1a:V2930L,ORF1a:T3255I,ORF1a:T3646A,ORF1b:S69F,ORF1b:F183V,ORF1b:P314L,ORF1b:G662S,ORF1b:P1000L,ORF1b:H1087Y,ORF1b:A1918V,ORF3a:S26L,ORF3a:R134H,ORF7a:V82A,ORF7a:T120I,ORF7b:T40I,ORF8:L60F,ORF9b:T60A,S:T19R,S:R158G,S:L452R,S:T478K,S:D614G,S:P681R,S:D950N,S:G1085R\tORF8:D119-,ORF8:F120-,S:E156-,S:F157-\t\t\tC6638T|21J,C7926T|21J,C16726T|21J,G28073T|21J\tC6070T,C13673T,G24815A,G25793A\t0\t4\t4\t8\t19299-19467,19477-19479,19540-19541,19555-19570,21717-21990\tORF1b:1944-2000,ORF1b:2004,ORF1b:2025,ORF1b:2030-2035,S:52-143\t\t3000\t6.074074\tgood\t464\t10\t0\tgood\t0\t24\t12\t50\tmediocre\t20\t\t0\tgood\t0\t\t0\t\t0\t0\tgood\t\t0\t0\tgood\t2\tCharité_RdRp_F:G15451A,ChinaCDC_N_F:G28881T\t\t\t\r\n",
      "3\tQC-4249\t21J\tAY.44\tB.1.617.2.44\t21J\tDelta\t21J (Delta)\t301.565586\tbad\t45\t13\t0\t0\t315\t15\t36\t4\t0\t82\t89469\t1\t29903\t0.9889643179614086\tfalse\tG210T,C241T,C3037T,G4181T,G5617T,C6040T,C6070T,C6402T,C6638T,C7081T,C7124T,C7926T,C8986T,G9053T,C10029T,A11201G,A11332G,C13673T,T14014G,C14408T,G15451A,C16466T,C16726T,C19220T,C21618G,T22917G,C22995A,A23403G,C23604G,G24410A,G24815A,C25469T,G25793A,T26767C,T27134C,T27638C,C27752T,C27874T,G28073T,A28461G,G28881T,G28916T,G29402T,A29700G,G29742T\t22029-22034,28248-28253,28271\t\t\tM:I82T,N:D63G,N:R203M,N:G215C,N:D377Y,ORF1a:A1306S,ORF1a:Q1784H,ORF1a:P2046L,ORF1a:H2125Y,ORF1a:P2287S,ORF1a:A2554V,ORF1a:V2930L,ORF1a:T3255I,ORF1a:T3646A,ORF1b:S69F,ORF1b:F183V,ORF1b:P314L,ORF1b:G662S,ORF1b:P1000L,ORF1b:H1087Y,ORF1b:A1918V,ORF3a:S26L,ORF3a:R134H,ORF7a:V82A,ORF7a:T120I,ORF7b:T40I,ORF8:L60F,ORF9b:T60A,S:T19R,S:R158G,S:L452R,S:T478K,S:D614G,S:P681R,S:D950N,S:G1085R\tORF8:D119-,ORF8:F120-,S:E156-,S:F157-\t\tA21987G\tC6638T|21J,C7926T|21J,C16726T|21J,G28073T|21J\tG5617T,C6070T,C7081T,C13673T,G24815A,G25793A,T27134C\t1\t4\t7\t12\t1-54,11083,19276-19298,19401-19570,29837-29903\tORF1a:1143,ORF1a:2224,ORF1a:3055,ORF1a:3145,ORF1a:3153,ORF1a:3585,ORF1a:3606,ORF1b:162,ORF1b:1761,ORF1b:1864,ORF1b:1937-1944,ORF1b:1978-2035,ORF1b:2152,ORF8:43,S:22,S:27,S:142,S:1117\tK:3692,Y:6936,Y:9430,Y:9700,Y:9724,Y:11020,R:13951,Y:18750,Y:19059,R:19921,Y:21627,Y:21642,R:21987,Y:24912,Y:28021\t3000\t0.555556\tgood\t315\t10\t150\tbad\t15\t24\t21\t87.500000\tmediocre\t29\t\t0\tgood\t0\t\t0\t\t0\t0\tgood\t\t0\t0\tgood\t2\tCharité_RdRp_F:G15451A,ChinaCDC_N_F:G28881T\t\t\t\r\n"
     ]
    }
   ],
   "source": [
    "!head nextclade/nextclade.tsv"
   ]
  },
  {
   "cell_type": "code",
   "execution_count": 17,
   "metadata": {
    "ExecuteTime": {
     "end_time": "2022-02-18T17:24:46.782463Z",
     "start_time": "2022-02-18T17:24:46.773499Z"
    }
   },
   "outputs": [],
   "source": [
    "df_nextclade = pd.read_table('nextclade/nextclade.tsv', dtype=str, index_col=1)"
   ]
  },
  {
   "cell_type": "code",
   "execution_count": 18,
   "metadata": {
    "ExecuteTime": {
     "end_time": "2022-02-18T17:26:02.172242Z",
     "start_time": "2022-02-18T17:26:02.169022Z"
    }
   },
   "outputs": [
    {
     "data": {
      "text/plain": [
       "Index(['index', 'clade', 'Nextclade_pango', 'partiallyAliased',\n",
       "       'clade_nextstrain', 'clade_who', 'clade_legacy', 'qc.overallScore',\n",
       "       'qc.overallStatus', 'totalSubstitutions', 'totalDeletions',\n",
       "       'totalInsertions', 'totalFrameShifts', 'totalMissing', 'totalNonACGTNs',\n",
       "       'totalAminoacidSubstitutions', 'totalAminoacidDeletions',\n",
       "       'totalAminoacidInsertions', 'totalUnknownAa', 'alignmentScore',\n",
       "       'alignmentStart', 'alignmentEnd', 'coverage', 'isReverseComplement',\n",
       "       'substitutions', 'deletions', 'insertions', 'frameShifts',\n",
       "       'aaSubstitutions', 'aaDeletions', 'aaInsertions',\n",
       "       'privateNucMutations.reversionSubstitutions',\n",
       "       'privateNucMutations.labeledSubstitutions',\n",
       "       'privateNucMutations.unlabeledSubstitutions',\n",
       "       'privateNucMutations.totalReversionSubstitutions',\n",
       "       'privateNucMutations.totalLabeledSubstitutions',\n",
       "       'privateNucMutations.totalUnlabeledSubstitutions',\n",
       "       'privateNucMutations.totalPrivateSubstitutions', 'missing',\n",
       "       'unknownAaRanges', 'nonACGTNs', 'qc.missingData.missingDataThreshold',\n",
       "       'qc.missingData.score', 'qc.missingData.status',\n",
       "       'qc.missingData.totalMissing', 'qc.mixedSites.mixedSitesThreshold',\n",
       "       'qc.mixedSites.score', 'qc.mixedSites.status',\n",
       "       'qc.mixedSites.totalMixedSites', 'qc.privateMutations.cutoff',\n",
       "       'qc.privateMutations.excess', 'qc.privateMutations.score',\n",
       "       'qc.privateMutations.status', 'qc.privateMutations.total',\n",
       "       'qc.snpClusters.clusteredSNPs', 'qc.snpClusters.score',\n",
       "       'qc.snpClusters.status', 'qc.snpClusters.totalSNPs',\n",
       "       'qc.frameShifts.frameShifts', 'qc.frameShifts.totalFrameShifts',\n",
       "       'qc.frameShifts.frameShiftsIgnored',\n",
       "       'qc.frameShifts.totalFrameShiftsIgnored', 'qc.frameShifts.score',\n",
       "       'qc.frameShifts.status', 'qc.stopCodons.stopCodons',\n",
       "       'qc.stopCodons.totalStopCodons', 'qc.stopCodons.score',\n",
       "       'qc.stopCodons.status', 'totalPcrPrimerChanges', 'pcrPrimerChanges',\n",
       "       'failedGenes', 'warnings', 'errors'],\n",
       "      dtype='object')"
      ]
     },
     "execution_count": 18,
     "metadata": {},
     "output_type": "execute_result"
    }
   ],
   "source": [
    "df_nextclade.columns"
   ]
  },
  {
   "cell_type": "code",
   "execution_count": 19,
   "metadata": {
    "ExecuteTime": {
     "end_time": "2022-02-18T17:28:30.620626Z",
     "start_time": "2022-02-18T17:28:30.617991Z"
    }
   },
   "outputs": [],
   "source": [
    "missing_series = df_nextclade.missing.str.split(',')"
   ]
  },
  {
   "cell_type": "code",
   "execution_count": 20,
   "metadata": {
    "ExecuteTime": {
     "end_time": "2022-02-18T17:37:36.905461Z",
     "start_time": "2022-02-18T17:37:36.902249Z"
    }
   },
   "outputs": [],
   "source": [
    "def range_str_to_int_tuple(nt_range: str) -> (int, int):\n",
    "    if '-' in nt_range:\n",
    "        start, end = nt_range.split('-')\n",
    "        return int(start), int(end)\n",
    "    else:\n",
    "        return int(nt_range), int(nt_range)"
   ]
  },
  {
   "cell_type": "code",
   "execution_count": 21,
   "metadata": {
    "ExecuteTime": {
     "end_time": "2022-02-18T17:32:29.247344Z",
     "start_time": "2022-02-18T17:32:29.245319Z"
    }
   },
   "outputs": [],
   "source": [
    "from collections import defaultdict"
   ]
  },
  {
   "cell_type": "code",
   "execution_count": 22,
   "metadata": {
    "ExecuteTime": {
     "end_time": "2022-02-18T17:34:54.197398Z",
     "start_time": "2022-02-18T17:34:54.195577Z"
    }
   },
   "outputs": [],
   "source": [
    "import numpy as np"
   ]
  },
  {
   "cell_type": "code",
   "execution_count": 23,
   "metadata": {
    "ExecuteTime": {
     "end_time": "2022-02-18T17:37:43.850991Z",
     "start_time": "2022-02-18T17:37:43.843580Z"
    }
   },
   "outputs": [
    {
     "name": "stdout",
     "output_type": "stream",
     "text": [
      "sample OK034569.1 has no missing regions\n",
      "sample OK020938.1 has no missing regions\n",
      "sample OK035053.1 has no missing regions\n",
      "sample OK035160.1 has no missing regions\n",
      "sample OK089361.1 has no missing regions\n",
      "sample OK119356.1 has no missing regions\n",
      "sample OK177797.1 has no missing regions\n",
      "sample OK287000.1 has no missing regions\n",
      "sample OK286946.1 has no missing regions\n",
      "sample OK352904.1 has no missing regions\n",
      "sample OK463722.1 has no missing regions\n",
      "sample OK443635.1 has no missing regions\n",
      "sample OK403350.1 has no missing regions\n",
      "sample OK443367.1 has no missing regions\n",
      "sample OL360169.1 has no missing regions\n",
      "sample OL564517.1 has no missing regions\n"
     ]
    },
    {
     "name": "stderr",
     "output_type": "stream",
     "text": [
      "/tmp/ipykernel_105558/1981736588.py:2: FutureWarning: iteritems is deprecated and will be removed in a future version. Use .items instead.\n",
      "  for sample, range_missing in missing_series.iteritems():\n"
     ]
    }
   ],
   "source": [
    "sample_missing_regions = {}\n",
    "for sample, range_missing in missing_series.iteritems():\n",
    "    if not isinstance(range_missing, list):\n",
    "        print(f'sample {sample} has no missing regions')\n",
    "        continue\n",
    "    sample_missing_regions[sample] = [range_str_to_int_tuple(r) for r in range_missing]"
   ]
  },
  {
   "cell_type": "code",
   "execution_count": 24,
   "metadata": {
    "ExecuteTime": {
     "end_time": "2022-02-17T20:27:26.842450Z",
     "start_time": "2022-02-17T20:27:26.608345Z"
    }
   },
   "outputs": [],
   "source": [
    "import logging\n",
    "from pathlib import Path\n",
    "from typing import Set, List, Dict\n",
    "\n",
    "import numpy as np\n",
    "import pandas as pd\n",
    "import typer\n",
    "\n",
    "\n",
    "def parse(nextclade_csv: Path) -> pd.DataFrame:\n",
    "    df_nextclade = pd.read_table(nextclade_csv, sep=';', dtype=str, index_col=1)\n",
    "    aa_subs: pd.Series = df_nextclade['aaSubstitutions'].str.split(',')\n",
    "    aa_dels: pd.Series = df_nextclade['aaDeletions'].str.split(',')\n",
    "    aa_ins: pd.Series = df_nextclade['aaInsertions'].str.split(',')\n",
    "    nt_subs: pd.Series = df_nextclade['substitutions'].str.split(',')\n",
    "    sample_aas = sample_to_aa_mutations(aa_subs, aa_dels, aa_ins)\n",
    "    sample_subs = sample_to_nt_mutations(nt_subs)\n",
    "    samples = list(sample_aas.keys())\n",
    "    unique_aas = get_sorted_aa_mutations(sample_aas)\n",
    "    unique_subs = get_sorted_nt_subs(sample_subs)\n",
    "    arr_aas = fill_aa_mutation_matrix(sample_aas, samples, unique_aas)\n",
    "    arr_subs = fill_aa_mutation_matrix(sample_subs, samples, unique_subs)\n",
    "    dfaa = pd.DataFrame(arr_aas, index=samples, columns=unique_aas)\n",
    "    dfsubs = pd.DataFrame(arr_subs, index=samples, columns=unique_subs)\n",
    "    return dfaa, dfsubs\n",
    "\n",
    "def sample_to_nt_mutations(\n",
    "        nt_subs: pd.Series\n",
    ") -> Dict[str, Set[str]]:\n",
    "    sample_subs = {}\n",
    "    for sample, nt_sub in zip(nt_subs.index, nt_subs):\n",
    "        subs = [] if not isinstance(nt_sub, list) else nt_sub\n",
    "        sample_subs[sample] = set(subs)\n",
    "    return sample_subs\n",
    "\n",
    "\n",
    "def sample_to_aa_mutations(\n",
    "        aa_subs: pd.Series,\n",
    "        aa_dels: pd.Series\n",
    ") -> Dict[str, Set[str]]:\n",
    "    sample_aas = {}\n",
    "    for sample, aa_sub, aa_del in zip(aa_subs.index, aa_subs, aa_dels):\n",
    "        aas = [] if not isinstance(aa_sub, list) else aa_sub\n",
    "        aad = [] if not isinstance(aa_del, list) else aa_del\n",
    "        sample_aas[sample] = set(aas) | set(aad)\n",
    "    return sample_aas\n",
    "\n",
    "\n",
    "def fill_aa_mutation_matrix(\n",
    "        sample_aas: Dict[str, Set[str]],\n",
    "        samples: List[str],\n",
    "        unique_aas: List[str]\n",
    ") -> np.ndarray:\n",
    "    \"\"\"Fill AA mutation matrix with 1 when AA mutation present in sample\"\"\"\n",
    "    arr_aas = np.zeros((len(sample_aas), len(unique_aas)), dtype='uint8')\n",
    "    for i, sample in enumerate(samples):\n",
    "        aas = sample_aas[sample]\n",
    "        for j, aa in enumerate(unique_aas):\n",
    "            if aa in aas:\n",
    "                arr_aas[i, j] = 1\n",
    "    return arr_aas\n",
    "\n",
    "\n",
    "def get_sorted_aa_mutations(sample_aas: Dict[str, Set[str]]) -> List[str]:\n",
    "    unique_aas = set()\n",
    "    for aas in sample_aas.values():\n",
    "        unique_aas |= aas\n",
    "    unique_aas = list(unique_aas)\n",
    "    unique_aas.sort()\n",
    "    return unique_aas\n",
    "\n",
    "\n",
    "def get_sorted_nt_subs(sample_subs: Dict[str, Set[str]]) -> List[str]:\n",
    "    out = set()\n",
    "    for subs in sample_subs.values():\n",
    "        out |= subs\n",
    "    out = list(out)\n",
    "    out.sort()\n",
    "    return out\n",
    "\n",
    "\n",
    "def sample_to_aa_mutations(\n",
    "        aa_subs: pd.Series,\n",
    "        aa_dels: pd.Series,\n",
    "        aa_insertions: pd.Series,\n",
    ") -> Dict[str, Set[str]]:\n",
    "    sample_aas = {}\n",
    "    for sample, aa_sub, aa_del, aa_ins in zip(aa_subs.index, aa_subs, aa_dels, aa_insertions):\n",
    "        aas = aa_sub if isinstance(aa_sub, list) else []\n",
    "        aad = aa_del if isinstance(aa_del, list) else []\n",
    "        aai = aa_ins if isinstance(aa_ins, list) else []\n",
    "        sample_aas[sample] = set(aas) | set(aad) | set(aai)\n",
    "    return sample_aas\n"
   ]
  },
  {
   "cell_type": "code",
   "execution_count": 25,
   "metadata": {
    "ExecuteTime": {
     "end_time": "2022-02-17T20:34:33.242938Z",
     "start_time": "2022-02-17T20:34:33.229241Z"
    }
   },
   "outputs": [],
   "source": [
    "dfaa, dfsubs = parse('nextclade/nextclade.csv')"
   ]
  },
  {
   "cell_type": "code",
   "execution_count": 26,
   "metadata": {},
   "outputs": [
    {
     "data": {
      "text/plain": [
       "(97, 119)"
      ]
     },
     "execution_count": 26,
     "metadata": {},
     "output_type": "execute_result"
    }
   ],
   "source": [
    "dfaa.shape"
   ]
  },
  {
   "cell_type": "code",
   "execution_count": 27,
   "metadata": {
    "ExecuteTime": {
     "end_time": "2022-02-17T20:35:00.000910Z",
     "start_time": "2022-02-17T20:34:59.993485Z"
    }
   },
   "outputs": [
    {
     "data": {
      "text/plain": [
       "E:N15S     False\n",
       "E:R69I     False\n",
       "M:I82T     False\n",
       "N:D377Y    False\n",
       "N:D63G     False\n",
       "           ...  \n",
       "S:S640F    False\n",
       "S:T19R     False\n",
       "S:T22I     False\n",
       "S:T478K    False\n",
       "S:V11A     False\n",
       "Length: 119, dtype: bool"
      ]
     },
     "execution_count": 27,
     "metadata": {},
     "output_type": "execute_result"
    }
   ],
   "source": [
    "(dfaa.sum(axis=0) == 0)"
   ]
  },
  {
   "cell_type": "code",
   "execution_count": 28,
   "metadata": {},
   "outputs": [
    {
     "data": {
      "text/html": [
       "<div>\n",
       "<style scoped>\n",
       "    .dataframe tbody tr th:only-of-type {\n",
       "        vertical-align: middle;\n",
       "    }\n",
       "\n",
       "    .dataframe tbody tr th {\n",
       "        vertical-align: top;\n",
       "    }\n",
       "\n",
       "    .dataframe thead th {\n",
       "        text-align: right;\n",
       "    }\n",
       "</style>\n",
       "<table border=\"1\" class=\"dataframe\">\n",
       "  <thead>\n",
       "    <tr style=\"text-align: right;\">\n",
       "      <th></th>\n",
       "      <th>E:N15S</th>\n",
       "      <th>E:R69I</th>\n",
       "      <th>M:I82T</th>\n",
       "      <th>N:D377Y</th>\n",
       "      <th>N:D63G</th>\n",
       "      <th>N:G215C</th>\n",
       "      <th>N:R203M</th>\n",
       "      <th>N:S250A</th>\n",
       "      <th>ORF1a:A1306S</th>\n",
       "      <th>ORF1a:A2529V</th>\n",
       "      <th>...</th>\n",
       "      <th>S:G142D</th>\n",
       "      <th>S:H146Q</th>\n",
       "      <th>S:L452R</th>\n",
       "      <th>S:P681R</th>\n",
       "      <th>S:R158G</th>\n",
       "      <th>S:S640F</th>\n",
       "      <th>S:T19R</th>\n",
       "      <th>S:T22I</th>\n",
       "      <th>S:T478K</th>\n",
       "      <th>S:V11A</th>\n",
       "    </tr>\n",
       "  </thead>\n",
       "  <tbody>\n",
       "    <tr>\n",
       "      <th>MZ839391.1</th>\n",
       "      <td>0</td>\n",
       "      <td>0</td>\n",
       "      <td>1</td>\n",
       "      <td>1</td>\n",
       "      <td>1</td>\n",
       "      <td>1</td>\n",
       "      <td>1</td>\n",
       "      <td>0</td>\n",
       "      <td>1</td>\n",
       "      <td>0</td>\n",
       "      <td>...</td>\n",
       "      <td>0</td>\n",
       "      <td>0</td>\n",
       "      <td>1</td>\n",
       "      <td>1</td>\n",
       "      <td>0</td>\n",
       "      <td>0</td>\n",
       "      <td>1</td>\n",
       "      <td>0</td>\n",
       "      <td>1</td>\n",
       "      <td>0</td>\n",
       "    </tr>\n",
       "    <tr>\n",
       "      <th>USA/CT-Yale-12907/2021</th>\n",
       "      <td>0</td>\n",
       "      <td>0</td>\n",
       "      <td>1</td>\n",
       "      <td>1</td>\n",
       "      <td>1</td>\n",
       "      <td>1</td>\n",
       "      <td>1</td>\n",
       "      <td>1</td>\n",
       "      <td>1</td>\n",
       "      <td>0</td>\n",
       "      <td>...</td>\n",
       "      <td>1</td>\n",
       "      <td>0</td>\n",
       "      <td>1</td>\n",
       "      <td>1</td>\n",
       "      <td>1</td>\n",
       "      <td>0</td>\n",
       "      <td>1</td>\n",
       "      <td>0</td>\n",
       "      <td>1</td>\n",
       "      <td>0</td>\n",
       "    </tr>\n",
       "    <tr>\n",
       "      <th>MZ778136.1</th>\n",
       "      <td>0</td>\n",
       "      <td>0</td>\n",
       "      <td>1</td>\n",
       "      <td>1</td>\n",
       "      <td>1</td>\n",
       "      <td>1</td>\n",
       "      <td>1</td>\n",
       "      <td>0</td>\n",
       "      <td>1</td>\n",
       "      <td>1</td>\n",
       "      <td>...</td>\n",
       "      <td>1</td>\n",
       "      <td>0</td>\n",
       "      <td>1</td>\n",
       "      <td>1</td>\n",
       "      <td>1</td>\n",
       "      <td>0</td>\n",
       "      <td>1</td>\n",
       "      <td>0</td>\n",
       "      <td>1</td>\n",
       "      <td>0</td>\n",
       "    </tr>\n",
       "    <tr>\n",
       "      <th>QC-4205</th>\n",
       "      <td>0</td>\n",
       "      <td>0</td>\n",
       "      <td>1</td>\n",
       "      <td>1</td>\n",
       "      <td>1</td>\n",
       "      <td>1</td>\n",
       "      <td>1</td>\n",
       "      <td>0</td>\n",
       "      <td>1</td>\n",
       "      <td>0</td>\n",
       "      <td>...</td>\n",
       "      <td>0</td>\n",
       "      <td>0</td>\n",
       "      <td>1</td>\n",
       "      <td>1</td>\n",
       "      <td>1</td>\n",
       "      <td>0</td>\n",
       "      <td>1</td>\n",
       "      <td>1</td>\n",
       "      <td>1</td>\n",
       "      <td>0</td>\n",
       "    </tr>\n",
       "    <tr>\n",
       "      <th>MZ801696.1</th>\n",
       "      <td>0</td>\n",
       "      <td>0</td>\n",
       "      <td>1</td>\n",
       "      <td>1</td>\n",
       "      <td>1</td>\n",
       "      <td>1</td>\n",
       "      <td>1</td>\n",
       "      <td>0</td>\n",
       "      <td>1</td>\n",
       "      <td>0</td>\n",
       "      <td>...</td>\n",
       "      <td>0</td>\n",
       "      <td>0</td>\n",
       "      <td>1</td>\n",
       "      <td>1</td>\n",
       "      <td>1</td>\n",
       "      <td>0</td>\n",
       "      <td>1</td>\n",
       "      <td>0</td>\n",
       "      <td>1</td>\n",
       "      <td>0</td>\n",
       "    </tr>\n",
       "    <tr>\n",
       "      <th>...</th>\n",
       "      <td>...</td>\n",
       "      <td>...</td>\n",
       "      <td>...</td>\n",
       "      <td>...</td>\n",
       "      <td>...</td>\n",
       "      <td>...</td>\n",
       "      <td>...</td>\n",
       "      <td>...</td>\n",
       "      <td>...</td>\n",
       "      <td>...</td>\n",
       "      <td>...</td>\n",
       "      <td>...</td>\n",
       "      <td>...</td>\n",
       "      <td>...</td>\n",
       "      <td>...</td>\n",
       "      <td>...</td>\n",
       "      <td>...</td>\n",
       "      <td>...</td>\n",
       "      <td>...</td>\n",
       "      <td>...</td>\n",
       "      <td>...</td>\n",
       "    </tr>\n",
       "    <tr>\n",
       "      <th>OL662716.1</th>\n",
       "      <td>0</td>\n",
       "      <td>0</td>\n",
       "      <td>1</td>\n",
       "      <td>1</td>\n",
       "      <td>1</td>\n",
       "      <td>1</td>\n",
       "      <td>1</td>\n",
       "      <td>0</td>\n",
       "      <td>1</td>\n",
       "      <td>0</td>\n",
       "      <td>...</td>\n",
       "      <td>1</td>\n",
       "      <td>0</td>\n",
       "      <td>1</td>\n",
       "      <td>1</td>\n",
       "      <td>1</td>\n",
       "      <td>0</td>\n",
       "      <td>1</td>\n",
       "      <td>0</td>\n",
       "      <td>1</td>\n",
       "      <td>0</td>\n",
       "    </tr>\n",
       "    <tr>\n",
       "      <th>OL662092.1</th>\n",
       "      <td>0</td>\n",
       "      <td>0</td>\n",
       "      <td>1</td>\n",
       "      <td>1</td>\n",
       "      <td>1</td>\n",
       "      <td>1</td>\n",
       "      <td>1</td>\n",
       "      <td>0</td>\n",
       "      <td>1</td>\n",
       "      <td>0</td>\n",
       "      <td>...</td>\n",
       "      <td>1</td>\n",
       "      <td>0</td>\n",
       "      <td>1</td>\n",
       "      <td>1</td>\n",
       "      <td>1</td>\n",
       "      <td>0</td>\n",
       "      <td>1</td>\n",
       "      <td>0</td>\n",
       "      <td>1</td>\n",
       "      <td>0</td>\n",
       "    </tr>\n",
       "    <tr>\n",
       "      <th>OP930368.1</th>\n",
       "      <td>0</td>\n",
       "      <td>0</td>\n",
       "      <td>1</td>\n",
       "      <td>1</td>\n",
       "      <td>1</td>\n",
       "      <td>1</td>\n",
       "      <td>1</td>\n",
       "      <td>0</td>\n",
       "      <td>1</td>\n",
       "      <td>0</td>\n",
       "      <td>...</td>\n",
       "      <td>1</td>\n",
       "      <td>0</td>\n",
       "      <td>1</td>\n",
       "      <td>1</td>\n",
       "      <td>1</td>\n",
       "      <td>0</td>\n",
       "      <td>1</td>\n",
       "      <td>0</td>\n",
       "      <td>1</td>\n",
       "      <td>0</td>\n",
       "    </tr>\n",
       "    <tr>\n",
       "      <th>OL718610.1</th>\n",
       "      <td>0</td>\n",
       "      <td>0</td>\n",
       "      <td>1</td>\n",
       "      <td>1</td>\n",
       "      <td>1</td>\n",
       "      <td>1</td>\n",
       "      <td>1</td>\n",
       "      <td>0</td>\n",
       "      <td>1</td>\n",
       "      <td>0</td>\n",
       "      <td>...</td>\n",
       "      <td>1</td>\n",
       "      <td>0</td>\n",
       "      <td>1</td>\n",
       "      <td>1</td>\n",
       "      <td>1</td>\n",
       "      <td>0</td>\n",
       "      <td>1</td>\n",
       "      <td>0</td>\n",
       "      <td>1</td>\n",
       "      <td>0</td>\n",
       "    </tr>\n",
       "    <tr>\n",
       "      <th>OL846289.1</th>\n",
       "      <td>0</td>\n",
       "      <td>0</td>\n",
       "      <td>1</td>\n",
       "      <td>1</td>\n",
       "      <td>1</td>\n",
       "      <td>1</td>\n",
       "      <td>1</td>\n",
       "      <td>0</td>\n",
       "      <td>1</td>\n",
       "      <td>0</td>\n",
       "      <td>...</td>\n",
       "      <td>1</td>\n",
       "      <td>1</td>\n",
       "      <td>1</td>\n",
       "      <td>1</td>\n",
       "      <td>1</td>\n",
       "      <td>0</td>\n",
       "      <td>1</td>\n",
       "      <td>0</td>\n",
       "      <td>1</td>\n",
       "      <td>0</td>\n",
       "    </tr>\n",
       "  </tbody>\n",
       "</table>\n",
       "<p>97 rows × 119 columns</p>\n",
       "</div>"
      ],
      "text/plain": [
       "                        E:N15S  E:R69I  M:I82T  N:D377Y  N:D63G  N:G215C  \\\n",
       "MZ839391.1                   0       0       1        1       1        1   \n",
       "USA/CT-Yale-12907/2021       0       0       1        1       1        1   \n",
       "MZ778136.1                   0       0       1        1       1        1   \n",
       "QC-4205                      0       0       1        1       1        1   \n",
       "MZ801696.1                   0       0       1        1       1        1   \n",
       "...                        ...     ...     ...      ...     ...      ...   \n",
       "OL662716.1                   0       0       1        1       1        1   \n",
       "OL662092.1                   0       0       1        1       1        1   \n",
       "OP930368.1                   0       0       1        1       1        1   \n",
       "OL718610.1                   0       0       1        1       1        1   \n",
       "OL846289.1                   0       0       1        1       1        1   \n",
       "\n",
       "                        N:R203M  N:S250A  ORF1a:A1306S  ORF1a:A2529V  ...  \\\n",
       "MZ839391.1                    1        0             1             0  ...   \n",
       "USA/CT-Yale-12907/2021        1        1             1             0  ...   \n",
       "MZ778136.1                    1        0             1             1  ...   \n",
       "QC-4205                       1        0             1             0  ...   \n",
       "MZ801696.1                    1        0             1             0  ...   \n",
       "...                         ...      ...           ...           ...  ...   \n",
       "OL662716.1                    1        0             1             0  ...   \n",
       "OL662092.1                    1        0             1             0  ...   \n",
       "OP930368.1                    1        0             1             0  ...   \n",
       "OL718610.1                    1        0             1             0  ...   \n",
       "OL846289.1                    1        0             1             0  ...   \n",
       "\n",
       "                        S:G142D  S:H146Q  S:L452R  S:P681R  S:R158G  S:S640F  \\\n",
       "MZ839391.1                    0        0        1        1        0        0   \n",
       "USA/CT-Yale-12907/2021        1        0        1        1        1        0   \n",
       "MZ778136.1                    1        0        1        1        1        0   \n",
       "QC-4205                       0        0        1        1        1        0   \n",
       "MZ801696.1                    0        0        1        1        1        0   \n",
       "...                         ...      ...      ...      ...      ...      ...   \n",
       "OL662716.1                    1        0        1        1        1        0   \n",
       "OL662092.1                    1        0        1        1        1        0   \n",
       "OP930368.1                    1        0        1        1        1        0   \n",
       "OL718610.1                    1        0        1        1        1        0   \n",
       "OL846289.1                    1        1        1        1        1        0   \n",
       "\n",
       "                        S:T19R  S:T22I  S:T478K  S:V11A  \n",
       "MZ839391.1                   1       0        1       0  \n",
       "USA/CT-Yale-12907/2021       1       0        1       0  \n",
       "MZ778136.1                   1       0        1       0  \n",
       "QC-4205                      1       1        1       0  \n",
       "MZ801696.1                   1       0        1       0  \n",
       "...                        ...     ...      ...     ...  \n",
       "OL662716.1                   1       0        1       0  \n",
       "OL662092.1                   1       0        1       0  \n",
       "OP930368.1                   1       0        1       0  \n",
       "OL718610.1                   1       0        1       0  \n",
       "OL846289.1                   1       0        1       0  \n",
       "\n",
       "[97 rows x 119 columns]"
      ]
     },
     "execution_count": 28,
     "metadata": {},
     "output_type": "execute_result"
    }
   ],
   "source": [
    "dfaa"
   ]
  },
  {
   "cell_type": "code",
   "execution_count": 29,
   "metadata": {},
   "outputs": [
    {
     "data": {
      "text/html": [
       "<div>\n",
       "<style scoped>\n",
       "    .dataframe tbody tr th:only-of-type {\n",
       "        vertical-align: middle;\n",
       "    }\n",
       "\n",
       "    .dataframe tbody tr th {\n",
       "        vertical-align: top;\n",
       "    }\n",
       "\n",
       "    .dataframe thead th {\n",
       "        text-align: right;\n",
       "    }\n",
       "</style>\n",
       "<table border=\"1\" class=\"dataframe\">\n",
       "  <thead>\n",
       "    <tr style=\"text-align: right;\">\n",
       "      <th></th>\n",
       "      <th>E:N15S</th>\n",
       "      <th>E:R69I</th>\n",
       "      <th>M:I82T</th>\n",
       "      <th>N:D377Y</th>\n",
       "      <th>N:D63G</th>\n",
       "      <th>N:G215C</th>\n",
       "      <th>N:R203M</th>\n",
       "      <th>N:S250A</th>\n",
       "      <th>ORF1a:A1306S</th>\n",
       "      <th>ORF1a:A2529V</th>\n",
       "      <th>...</th>\n",
       "      <th>S:G142D</th>\n",
       "      <th>S:H146Q</th>\n",
       "      <th>S:L452R</th>\n",
       "      <th>S:P681R</th>\n",
       "      <th>S:R158G</th>\n",
       "      <th>S:S640F</th>\n",
       "      <th>S:T19R</th>\n",
       "      <th>S:T22I</th>\n",
       "      <th>S:T478K</th>\n",
       "      <th>S:V11A</th>\n",
       "    </tr>\n",
       "  </thead>\n",
       "  <tbody>\n",
       "    <tr>\n",
       "      <th>MZ839391.1</th>\n",
       "      <td>0</td>\n",
       "      <td>0</td>\n",
       "      <td>1</td>\n",
       "      <td>1</td>\n",
       "      <td>1</td>\n",
       "      <td>1</td>\n",
       "      <td>1</td>\n",
       "      <td>0</td>\n",
       "      <td>1</td>\n",
       "      <td>0</td>\n",
       "      <td>...</td>\n",
       "      <td>0</td>\n",
       "      <td>0</td>\n",
       "      <td>1</td>\n",
       "      <td>1</td>\n",
       "      <td>0</td>\n",
       "      <td>0</td>\n",
       "      <td>1</td>\n",
       "      <td>0</td>\n",
       "      <td>1</td>\n",
       "      <td>0</td>\n",
       "    </tr>\n",
       "    <tr>\n",
       "      <th>USA/CT-Yale-12907/2021</th>\n",
       "      <td>0</td>\n",
       "      <td>0</td>\n",
       "      <td>1</td>\n",
       "      <td>1</td>\n",
       "      <td>1</td>\n",
       "      <td>1</td>\n",
       "      <td>1</td>\n",
       "      <td>1</td>\n",
       "      <td>1</td>\n",
       "      <td>0</td>\n",
       "      <td>...</td>\n",
       "      <td>1</td>\n",
       "      <td>0</td>\n",
       "      <td>1</td>\n",
       "      <td>1</td>\n",
       "      <td>1</td>\n",
       "      <td>0</td>\n",
       "      <td>1</td>\n",
       "      <td>0</td>\n",
       "      <td>1</td>\n",
       "      <td>0</td>\n",
       "    </tr>\n",
       "    <tr>\n",
       "      <th>MZ778136.1</th>\n",
       "      <td>0</td>\n",
       "      <td>0</td>\n",
       "      <td>1</td>\n",
       "      <td>1</td>\n",
       "      <td>1</td>\n",
       "      <td>1</td>\n",
       "      <td>1</td>\n",
       "      <td>0</td>\n",
       "      <td>1</td>\n",
       "      <td>1</td>\n",
       "      <td>...</td>\n",
       "      <td>1</td>\n",
       "      <td>0</td>\n",
       "      <td>1</td>\n",
       "      <td>1</td>\n",
       "      <td>1</td>\n",
       "      <td>0</td>\n",
       "      <td>1</td>\n",
       "      <td>0</td>\n",
       "      <td>1</td>\n",
       "      <td>0</td>\n",
       "    </tr>\n",
       "    <tr>\n",
       "      <th>QC-4205</th>\n",
       "      <td>0</td>\n",
       "      <td>0</td>\n",
       "      <td>1</td>\n",
       "      <td>1</td>\n",
       "      <td>1</td>\n",
       "      <td>1</td>\n",
       "      <td>1</td>\n",
       "      <td>0</td>\n",
       "      <td>1</td>\n",
       "      <td>0</td>\n",
       "      <td>...</td>\n",
       "      <td>0</td>\n",
       "      <td>0</td>\n",
       "      <td>1</td>\n",
       "      <td>1</td>\n",
       "      <td>1</td>\n",
       "      <td>0</td>\n",
       "      <td>1</td>\n",
       "      <td>1</td>\n",
       "      <td>1</td>\n",
       "      <td>0</td>\n",
       "    </tr>\n",
       "    <tr>\n",
       "      <th>MZ801696.1</th>\n",
       "      <td>0</td>\n",
       "      <td>0</td>\n",
       "      <td>1</td>\n",
       "      <td>1</td>\n",
       "      <td>1</td>\n",
       "      <td>1</td>\n",
       "      <td>1</td>\n",
       "      <td>0</td>\n",
       "      <td>1</td>\n",
       "      <td>0</td>\n",
       "      <td>...</td>\n",
       "      <td>0</td>\n",
       "      <td>0</td>\n",
       "      <td>1</td>\n",
       "      <td>1</td>\n",
       "      <td>1</td>\n",
       "      <td>0</td>\n",
       "      <td>1</td>\n",
       "      <td>0</td>\n",
       "      <td>1</td>\n",
       "      <td>0</td>\n",
       "    </tr>\n",
       "    <tr>\n",
       "      <th>...</th>\n",
       "      <td>...</td>\n",
       "      <td>...</td>\n",
       "      <td>...</td>\n",
       "      <td>...</td>\n",
       "      <td>...</td>\n",
       "      <td>...</td>\n",
       "      <td>...</td>\n",
       "      <td>...</td>\n",
       "      <td>...</td>\n",
       "      <td>...</td>\n",
       "      <td>...</td>\n",
       "      <td>...</td>\n",
       "      <td>...</td>\n",
       "      <td>...</td>\n",
       "      <td>...</td>\n",
       "      <td>...</td>\n",
       "      <td>...</td>\n",
       "      <td>...</td>\n",
       "      <td>...</td>\n",
       "      <td>...</td>\n",
       "      <td>...</td>\n",
       "    </tr>\n",
       "    <tr>\n",
       "      <th>OL662716.1</th>\n",
       "      <td>0</td>\n",
       "      <td>0</td>\n",
       "      <td>1</td>\n",
       "      <td>1</td>\n",
       "      <td>1</td>\n",
       "      <td>1</td>\n",
       "      <td>1</td>\n",
       "      <td>0</td>\n",
       "      <td>1</td>\n",
       "      <td>0</td>\n",
       "      <td>...</td>\n",
       "      <td>1</td>\n",
       "      <td>0</td>\n",
       "      <td>1</td>\n",
       "      <td>1</td>\n",
       "      <td>1</td>\n",
       "      <td>0</td>\n",
       "      <td>1</td>\n",
       "      <td>0</td>\n",
       "      <td>1</td>\n",
       "      <td>0</td>\n",
       "    </tr>\n",
       "    <tr>\n",
       "      <th>OL662092.1</th>\n",
       "      <td>0</td>\n",
       "      <td>0</td>\n",
       "      <td>1</td>\n",
       "      <td>1</td>\n",
       "      <td>1</td>\n",
       "      <td>1</td>\n",
       "      <td>1</td>\n",
       "      <td>0</td>\n",
       "      <td>1</td>\n",
       "      <td>0</td>\n",
       "      <td>...</td>\n",
       "      <td>1</td>\n",
       "      <td>0</td>\n",
       "      <td>1</td>\n",
       "      <td>1</td>\n",
       "      <td>1</td>\n",
       "      <td>0</td>\n",
       "      <td>1</td>\n",
       "      <td>0</td>\n",
       "      <td>1</td>\n",
       "      <td>0</td>\n",
       "    </tr>\n",
       "    <tr>\n",
       "      <th>OP930368.1</th>\n",
       "      <td>0</td>\n",
       "      <td>0</td>\n",
       "      <td>1</td>\n",
       "      <td>1</td>\n",
       "      <td>1</td>\n",
       "      <td>1</td>\n",
       "      <td>1</td>\n",
       "      <td>0</td>\n",
       "      <td>1</td>\n",
       "      <td>0</td>\n",
       "      <td>...</td>\n",
       "      <td>1</td>\n",
       "      <td>0</td>\n",
       "      <td>1</td>\n",
       "      <td>1</td>\n",
       "      <td>1</td>\n",
       "      <td>0</td>\n",
       "      <td>1</td>\n",
       "      <td>0</td>\n",
       "      <td>1</td>\n",
       "      <td>0</td>\n",
       "    </tr>\n",
       "    <tr>\n",
       "      <th>OL718610.1</th>\n",
       "      <td>0</td>\n",
       "      <td>0</td>\n",
       "      <td>1</td>\n",
       "      <td>1</td>\n",
       "      <td>1</td>\n",
       "      <td>1</td>\n",
       "      <td>1</td>\n",
       "      <td>0</td>\n",
       "      <td>1</td>\n",
       "      <td>0</td>\n",
       "      <td>...</td>\n",
       "      <td>1</td>\n",
       "      <td>0</td>\n",
       "      <td>1</td>\n",
       "      <td>1</td>\n",
       "      <td>1</td>\n",
       "      <td>0</td>\n",
       "      <td>1</td>\n",
       "      <td>0</td>\n",
       "      <td>1</td>\n",
       "      <td>0</td>\n",
       "    </tr>\n",
       "    <tr>\n",
       "      <th>OL846289.1</th>\n",
       "      <td>0</td>\n",
       "      <td>0</td>\n",
       "      <td>1</td>\n",
       "      <td>1</td>\n",
       "      <td>1</td>\n",
       "      <td>1</td>\n",
       "      <td>1</td>\n",
       "      <td>0</td>\n",
       "      <td>1</td>\n",
       "      <td>0</td>\n",
       "      <td>...</td>\n",
       "      <td>1</td>\n",
       "      <td>1</td>\n",
       "      <td>1</td>\n",
       "      <td>1</td>\n",
       "      <td>1</td>\n",
       "      <td>0</td>\n",
       "      <td>1</td>\n",
       "      <td>0</td>\n",
       "      <td>1</td>\n",
       "      <td>0</td>\n",
       "    </tr>\n",
       "  </tbody>\n",
       "</table>\n",
       "<p>97 rows × 119 columns</p>\n",
       "</div>"
      ],
      "text/plain": [
       "                        E:N15S  E:R69I  M:I82T  N:D377Y  N:D63G  N:G215C  \\\n",
       "MZ839391.1                   0       0       1        1       1        1   \n",
       "USA/CT-Yale-12907/2021       0       0       1        1       1        1   \n",
       "MZ778136.1                   0       0       1        1       1        1   \n",
       "QC-4205                      0       0       1        1       1        1   \n",
       "MZ801696.1                   0       0       1        1       1        1   \n",
       "...                        ...     ...     ...      ...     ...      ...   \n",
       "OL662716.1                   0       0       1        1       1        1   \n",
       "OL662092.1                   0       0       1        1       1        1   \n",
       "OP930368.1                   0       0       1        1       1        1   \n",
       "OL718610.1                   0       0       1        1       1        1   \n",
       "OL846289.1                   0       0       1        1       1        1   \n",
       "\n",
       "                        N:R203M  N:S250A  ORF1a:A1306S  ORF1a:A2529V  ...  \\\n",
       "MZ839391.1                    1        0             1             0  ...   \n",
       "USA/CT-Yale-12907/2021        1        1             1             0  ...   \n",
       "MZ778136.1                    1        0             1             1  ...   \n",
       "QC-4205                       1        0             1             0  ...   \n",
       "MZ801696.1                    1        0             1             0  ...   \n",
       "...                         ...      ...           ...           ...  ...   \n",
       "OL662716.1                    1        0             1             0  ...   \n",
       "OL662092.1                    1        0             1             0  ...   \n",
       "OP930368.1                    1        0             1             0  ...   \n",
       "OL718610.1                    1        0             1             0  ...   \n",
       "OL846289.1                    1        0             1             0  ...   \n",
       "\n",
       "                        S:G142D  S:H146Q  S:L452R  S:P681R  S:R158G  S:S640F  \\\n",
       "MZ839391.1                    0        0        1        1        0        0   \n",
       "USA/CT-Yale-12907/2021        1        0        1        1        1        0   \n",
       "MZ778136.1                    1        0        1        1        1        0   \n",
       "QC-4205                       0        0        1        1        1        0   \n",
       "MZ801696.1                    0        0        1        1        1        0   \n",
       "...                         ...      ...      ...      ...      ...      ...   \n",
       "OL662716.1                    1        0        1        1        1        0   \n",
       "OL662092.1                    1        0        1        1        1        0   \n",
       "OP930368.1                    1        0        1        1        1        0   \n",
       "OL718610.1                    1        0        1        1        1        0   \n",
       "OL846289.1                    1        1        1        1        1        0   \n",
       "\n",
       "                        S:T19R  S:T22I  S:T478K  S:V11A  \n",
       "MZ839391.1                   1       0        1       0  \n",
       "USA/CT-Yale-12907/2021       1       0        1       0  \n",
       "MZ778136.1                   1       0        1       0  \n",
       "QC-4205                      1       1        1       0  \n",
       "MZ801696.1                   1       0        1       0  \n",
       "...                        ...     ...      ...     ...  \n",
       "OL662716.1                   1       0        1       0  \n",
       "OL662092.1                   1       0        1       0  \n",
       "OP930368.1                   1       0        1       0  \n",
       "OL718610.1                   1       0        1       0  \n",
       "OL846289.1                   1       0        1       0  \n",
       "\n",
       "[97 rows x 119 columns]"
      ]
     },
     "execution_count": 29,
     "metadata": {},
     "output_type": "execute_result"
    }
   ],
   "source": [
    "dfaa"
   ]
  },
  {
   "cell_type": "code",
   "execution_count": 30,
   "metadata": {},
   "outputs": [],
   "source": [
    "mb_deer_names = dfaa.index[dfaa.index.str.match(r'(AB|BC|NB|MB|QC|SK|ON)-')]"
   ]
  },
  {
   "cell_type": "code",
   "execution_count": 31,
   "metadata": {},
   "outputs": [
    {
     "data": {
      "text/plain": [
       "Index(['QC-4205', 'QC-4249', 'QC-4055', 'QC-4204'], dtype='object')"
      ]
     },
     "execution_count": 31,
     "metadata": {},
     "output_type": "execute_result"
    }
   ],
   "source": [
    "\n",
    "mb_deer_names"
   ]
  },
  {
   "cell_type": "code",
   "execution_count": 32,
   "metadata": {},
   "outputs": [
    {
     "name": "stdout",
     "output_type": "stream",
     "text": [
      "QC-4205\n",
      "QC-4249\n",
      "QC-4055\n",
      "QC-4204\n"
     ]
    }
   ],
   "source": [
    "for x in mb_deer_names:\n",
    "    print(x)"
   ]
  },
  {
   "cell_type": "code",
   "execution_count": 33,
   "metadata": {
    "ExecuteTime": {
     "end_time": "2022-02-17T20:35:43.564853Z",
     "start_time": "2022-02-17T20:35:43.562314Z"
    }
   },
   "outputs": [],
   "source": [
    "dfaa_on = dfaa.loc[mb_deer_names, :]"
   ]
  },
  {
   "cell_type": "code",
   "execution_count": 34,
   "metadata": {
    "ExecuteTime": {
     "end_time": "2022-02-17T20:35:44.549399Z",
     "start_time": "2022-02-17T20:35:44.546620Z"
    }
   },
   "outputs": [],
   "source": [
    "mut_mask = dfaa_on.sum() > 0"
   ]
  },
  {
   "cell_type": "code",
   "execution_count": 35,
   "metadata": {
    "ExecuteTime": {
     "end_time": "2022-02-17T20:35:45.657798Z",
     "start_time": "2022-02-17T20:35:45.654888Z"
    }
   },
   "outputs": [],
   "source": [
    "dfaa_sub = dfaa.loc[:, mut_mask]"
   ]
  },
  {
   "cell_type": "code",
   "execution_count": 36,
   "metadata": {
    "ExecuteTime": {
     "end_time": "2022-02-17T20:35:46.259257Z",
     "start_time": "2022-02-17T20:35:46.253804Z"
    }
   },
   "outputs": [],
   "source": [
    "dfaa_sub.index.name = 'sample'"
   ]
  },
  {
   "cell_type": "code",
   "execution_count": 37,
   "metadata": {},
   "outputs": [
    {
     "data": {
      "text/html": [
       "<div>\n",
       "<style scoped>\n",
       "    .dataframe tbody tr th:only-of-type {\n",
       "        vertical-align: middle;\n",
       "    }\n",
       "\n",
       "    .dataframe tbody tr th {\n",
       "        vertical-align: top;\n",
       "    }\n",
       "\n",
       "    .dataframe thead th {\n",
       "        text-align: right;\n",
       "    }\n",
       "</style>\n",
       "<table border=\"1\" class=\"dataframe\">\n",
       "  <thead>\n",
       "    <tr style=\"text-align: right;\">\n",
       "      <th></th>\n",
       "      <th>start</th>\n",
       "      <th>end</th>\n",
       "      <th>gene</th>\n",
       "    </tr>\n",
       "  </thead>\n",
       "  <tbody>\n",
       "    <tr>\n",
       "      <th>0</th>\n",
       "      <td>266</td>\n",
       "      <td>13468</td>\n",
       "      <td>ORF1a</td>\n",
       "    </tr>\n",
       "    <tr>\n",
       "      <th>1</th>\n",
       "      <td>13468</td>\n",
       "      <td>21555</td>\n",
       "      <td>ORF1b</td>\n",
       "    </tr>\n",
       "    <tr>\n",
       "      <th>2</th>\n",
       "      <td>25393</td>\n",
       "      <td>26220</td>\n",
       "      <td>ORF3a</td>\n",
       "    </tr>\n",
       "    <tr>\n",
       "      <th>3</th>\n",
       "      <td>21563</td>\n",
       "      <td>25384</td>\n",
       "      <td>S</td>\n",
       "    </tr>\n",
       "    <tr>\n",
       "      <th>4</th>\n",
       "      <td>26245</td>\n",
       "      <td>26472</td>\n",
       "      <td>E</td>\n",
       "    </tr>\n",
       "    <tr>\n",
       "      <th>5</th>\n",
       "      <td>26523</td>\n",
       "      <td>27191</td>\n",
       "      <td>M</td>\n",
       "    </tr>\n",
       "    <tr>\n",
       "      <th>6</th>\n",
       "      <td>27202</td>\n",
       "      <td>27387</td>\n",
       "      <td>ORF6</td>\n",
       "    </tr>\n",
       "    <tr>\n",
       "      <th>7</th>\n",
       "      <td>27394</td>\n",
       "      <td>27759</td>\n",
       "      <td>ORF7a</td>\n",
       "    </tr>\n",
       "    <tr>\n",
       "      <th>8</th>\n",
       "      <td>27756</td>\n",
       "      <td>27887</td>\n",
       "      <td>ORF7b</td>\n",
       "    </tr>\n",
       "    <tr>\n",
       "      <th>9</th>\n",
       "      <td>27894</td>\n",
       "      <td>28259</td>\n",
       "      <td>ORF8</td>\n",
       "    </tr>\n",
       "    <tr>\n",
       "      <th>10</th>\n",
       "      <td>28274</td>\n",
       "      <td>29533</td>\n",
       "      <td>N</td>\n",
       "    </tr>\n",
       "    <tr>\n",
       "      <th>11</th>\n",
       "      <td>28284</td>\n",
       "      <td>28577</td>\n",
       "      <td>ORF9b</td>\n",
       "    </tr>\n",
       "  </tbody>\n",
       "</table>\n",
       "</div>"
      ],
      "text/plain": [
       "    start    end   gene\n",
       "0     266  13468  ORF1a\n",
       "1   13468  21555  ORF1b\n",
       "2   25393  26220  ORF3a\n",
       "3   21563  25384      S\n",
       "4   26245  26472      E\n",
       "5   26523  27191      M\n",
       "6   27202  27387   ORF6\n",
       "7   27394  27759  ORF7a\n",
       "8   27756  27887  ORF7b\n",
       "9   27894  28259   ORF8\n",
       "10  28274  29533      N\n",
       "11  28284  28577  ORF9b"
      ]
     },
     "execution_count": 37,
     "metadata": {},
     "output_type": "execute_result"
    }
   ],
   "source": [
    "df_gff"
   ]
  },
  {
   "cell_type": "code",
   "execution_count": 38,
   "metadata": {},
   "outputs": [
    {
     "data": {
      "text/html": [
       "<div>\n",
       "<style scoped>\n",
       "    .dataframe tbody tr th:only-of-type {\n",
       "        vertical-align: middle;\n",
       "    }\n",
       "\n",
       "    .dataframe tbody tr th {\n",
       "        vertical-align: top;\n",
       "    }\n",
       "\n",
       "    .dataframe thead th {\n",
       "        text-align: right;\n",
       "    }\n",
       "</style>\n",
       "<table border=\"1\" class=\"dataframe\">\n",
       "  <thead>\n",
       "    <tr style=\"text-align: right;\">\n",
       "      <th></th>\n",
       "      <th>start</th>\n",
       "      <th>end</th>\n",
       "      <th>gene</th>\n",
       "    </tr>\n",
       "  </thead>\n",
       "  <tbody>\n",
       "    <tr>\n",
       "      <th>0</th>\n",
       "      <td>266</td>\n",
       "      <td>13468</td>\n",
       "      <td>ORF1a</td>\n",
       "    </tr>\n",
       "    <tr>\n",
       "      <th>1</th>\n",
       "      <td>13468</td>\n",
       "      <td>21555</td>\n",
       "      <td>ORF1b</td>\n",
       "    </tr>\n",
       "    <tr>\n",
       "      <th>3</th>\n",
       "      <td>21563</td>\n",
       "      <td>25384</td>\n",
       "      <td>S</td>\n",
       "    </tr>\n",
       "    <tr>\n",
       "      <th>2</th>\n",
       "      <td>25393</td>\n",
       "      <td>26220</td>\n",
       "      <td>ORF3a</td>\n",
       "    </tr>\n",
       "    <tr>\n",
       "      <th>4</th>\n",
       "      <td>26245</td>\n",
       "      <td>26472</td>\n",
       "      <td>E</td>\n",
       "    </tr>\n",
       "    <tr>\n",
       "      <th>5</th>\n",
       "      <td>26523</td>\n",
       "      <td>27191</td>\n",
       "      <td>M</td>\n",
       "    </tr>\n",
       "    <tr>\n",
       "      <th>6</th>\n",
       "      <td>27202</td>\n",
       "      <td>27387</td>\n",
       "      <td>ORF6</td>\n",
       "    </tr>\n",
       "    <tr>\n",
       "      <th>7</th>\n",
       "      <td>27394</td>\n",
       "      <td>27759</td>\n",
       "      <td>ORF7a</td>\n",
       "    </tr>\n",
       "    <tr>\n",
       "      <th>8</th>\n",
       "      <td>27756</td>\n",
       "      <td>27887</td>\n",
       "      <td>ORF7b</td>\n",
       "    </tr>\n",
       "    <tr>\n",
       "      <th>9</th>\n",
       "      <td>27894</td>\n",
       "      <td>28259</td>\n",
       "      <td>ORF8</td>\n",
       "    </tr>\n",
       "    <tr>\n",
       "      <th>10</th>\n",
       "      <td>28274</td>\n",
       "      <td>29533</td>\n",
       "      <td>N</td>\n",
       "    </tr>\n",
       "    <tr>\n",
       "      <th>11</th>\n",
       "      <td>28284</td>\n",
       "      <td>28577</td>\n",
       "      <td>ORF9b</td>\n",
       "    </tr>\n",
       "  </tbody>\n",
       "</table>\n",
       "</div>"
      ],
      "text/plain": [
       "    start    end   gene\n",
       "0     266  13468  ORF1a\n",
       "1   13468  21555  ORF1b\n",
       "3   21563  25384      S\n",
       "2   25393  26220  ORF3a\n",
       "4   26245  26472      E\n",
       "5   26523  27191      M\n",
       "6   27202  27387   ORF6\n",
       "7   27394  27759  ORF7a\n",
       "8   27756  27887  ORF7b\n",
       "9   27894  28259   ORF8\n",
       "10  28274  29533      N\n",
       "11  28284  28577  ORF9b"
      ]
     },
     "execution_count": 38,
     "metadata": {},
     "output_type": "execute_result"
    }
   ],
   "source": [
    "df_gff.sort_values('start')"
   ]
  },
  {
   "cell_type": "code",
   "execution_count": 39,
   "metadata": {
    "ExecuteTime": {
     "end_time": "2022-02-17T20:35:47.543649Z",
     "start_time": "2022-02-17T20:35:47.541573Z"
    }
   },
   "outputs": [],
   "source": [
    "ordered_genes = df_gff.sort_values('start').gene.to_list()"
   ]
  },
  {
   "cell_type": "code",
   "execution_count": 40,
   "metadata": {},
   "outputs": [
    {
     "data": {
      "text/plain": [
       "['ORF1a',\n",
       " 'ORF1b',\n",
       " 'S',\n",
       " 'ORF3a',\n",
       " 'E',\n",
       " 'M',\n",
       " 'ORF6',\n",
       " 'ORF7a',\n",
       " 'ORF7b',\n",
       " 'ORF8',\n",
       " 'N',\n",
       " 'ORF9b']"
      ]
     },
     "execution_count": 40,
     "metadata": {},
     "output_type": "execute_result"
    }
   ],
   "source": [
    "ordered_genes"
   ]
  },
  {
   "cell_type": "code",
   "execution_count": 41,
   "metadata": {
    "ExecuteTime": {
     "end_time": "2022-02-17T20:35:54.783440Z",
     "start_time": "2022-02-17T20:35:54.781368Z"
    }
   },
   "outputs": [],
   "source": [
    "import re"
   ]
  },
  {
   "cell_type": "code",
   "execution_count": 42,
   "metadata": {
    "ExecuteTime": {
     "end_time": "2022-02-17T20:35:55.476583Z",
     "start_time": "2022-02-17T20:35:55.472816Z"
    }
   },
   "outputs": [
    {
     "data": {
      "text/plain": [
       "'123'"
      ]
     },
     "execution_count": 42,
     "metadata": {},
     "output_type": "execute_result"
    }
   ],
   "source": [
    "re.sub(r'(\\D+)?(\\d+)\\D+', r'\\2', 'O:123:wha')"
   ]
  },
  {
   "cell_type": "code",
   "execution_count": 43,
   "metadata": {
    "ExecuteTime": {
     "end_time": "2022-02-17T20:35:59.357552Z",
     "start_time": "2022-02-17T20:35:59.354447Z"
    }
   },
   "outputs": [
    {
     "data": {
      "text/plain": [
       "'123'"
      ]
     },
     "execution_count": 43,
     "metadata": {},
     "output_type": "execute_result"
    }
   ],
   "source": [
    "re.sub(r'(\\D+)?(\\d+)\\D+', r'\\2', 'O:A123T')"
   ]
  },
  {
   "cell_type": "code",
   "execution_count": 44,
   "metadata": {
    "ExecuteTime": {
     "end_time": "2022-02-17T20:36:01.055096Z",
     "start_time": "2022-02-17T20:36:01.045474Z"
    }
   },
   "outputs": [],
   "source": [
    "import re\n",
    "from collections import defaultdict\n",
    "\n",
    "def gene_ordered_mutations(muts) -> Dict[str, List[str]]:\n",
    "    out = defaultdict(list)\n",
    "    for m in muts:\n",
    "        gene, mut = m.split(':', maxsplit=1)\n",
    "        out[gene].append(mut)\n",
    "    for k, v in out.items():\n",
    "        v.sort(key=lambda x: int(re.sub(r'(\\D+)?(\\d+)\\D+', r'\\2', x)))\n",
    "    return out"
   ]
  },
  {
   "cell_type": "code",
   "execution_count": 45,
   "metadata": {
    "ExecuteTime": {
     "end_time": "2022-02-17T20:36:03.404134Z",
     "start_time": "2022-02-17T20:36:03.397622Z"
    }
   },
   "outputs": [
    {
     "data": {
      "text/plain": [
       "Index(['M:I82T', 'N:D377Y', 'N:D63G', 'N:G215C', 'N:R203M', 'ORF1a:A1306S',\n",
       "       'ORF1a:A2554V', 'ORF1a:H2125Y', 'ORF1a:L1853F', 'ORF1a:L3116F',\n",
       "       'ORF1a:L3606F', 'ORF1a:M85-', 'ORF1a:P2046L', 'ORF1a:P2287S',\n",
       "       'ORF1a:Q1784H', 'ORF1a:S2242F', 'ORF1a:T2823I', 'ORF1a:T3255I',\n",
       "       'ORF1a:T3646A', 'ORF1a:V1143F', 'ORF1a:V2930L', 'ORF1b:A1918V',\n",
       "       'ORF1b:F183V', 'ORF1b:G662S', 'ORF1b:H1087Y', 'ORF1b:I1498V',\n",
       "       'ORF1b:P1000L', 'ORF1b:P314L', 'ORF1b:S69F', 'ORF3a:R134H',\n",
       "       'ORF3a:S26L', 'ORF3a:T12I', 'ORF7a:T120I', 'ORF7a:T39I', 'ORF7a:V82A',\n",
       "       'ORF7b:L4F', 'ORF7b:T40I', 'ORF8:A65-', 'ORF8:C61-', 'ORF8:D119-',\n",
       "       'ORF8:D63-', 'ORF8:E64-', 'ORF8:F120-', 'ORF8:G66-', 'ORF8:K68*',\n",
       "       'ORF8:L60-', 'ORF8:L60F', 'ORF8:S67F', 'ORF8:V62-', 'ORF9b:T60A',\n",
       "       'S:A27V', 'S:D614G', 'S:D950N', 'S:E156-', 'S:F157-', 'S:G1085R',\n",
       "       'S:L452R', 'S:P681R', 'S:R158G', 'S:T19R', 'S:T22I', 'S:T478K'],\n",
       "      dtype='object')"
      ]
     },
     "execution_count": 45,
     "metadata": {},
     "output_type": "execute_result"
    }
   ],
   "source": [
    "dfaa_sub.columns"
   ]
  },
  {
   "cell_type": "code",
   "execution_count": 59,
   "metadata": {
    "ExecuteTime": {
     "end_time": "2022-02-17T20:36:03.716059Z",
     "start_time": "2022-02-17T20:36:03.709688Z"
    }
   },
   "outputs": [],
   "source": [
    "gmuts = gene_ordered_mutations(dfaa_sub.columns)"
   ]
  },
  {
   "cell_type": "code",
   "execution_count": 70,
   "metadata": {
    "ExecuteTime": {
     "end_time": "2022-02-17T20:36:04.107526Z",
     "start_time": "2022-02-17T20:36:04.101723Z"
    }
   },
   "outputs": [],
   "source": [
    "ordered_gmuts = [f'{g}:{x}' for g in ordered_genes for x in gmuts[g]]"
   ]
  },
  {
   "cell_type": "code",
   "execution_count": 71,
   "metadata": {
    "ExecuteTime": {
     "end_time": "2022-02-17T20:36:04.486057Z",
     "start_time": "2022-02-17T20:36:04.478016Z"
    }
   },
   "outputs": [
    {
     "name": "stdout",
     "output_type": "stream",
     "text": [
      "ORF1a:M85-\n",
      "ORF1a:V1143F\n",
      "ORF1a:A1306S\n",
      "ORF1a:Q1784H\n",
      "ORF1a:L1853F\n",
      "ORF1a:P2046L\n",
      "ORF1a:H2125Y\n",
      "ORF1a:S2242F\n",
      "ORF1a:P2287S\n",
      "ORF1a:A2554V\n",
      "ORF1a:T2823I\n",
      "ORF1a:V2930L\n",
      "ORF1a:L3116F\n",
      "ORF1a:T3255I\n",
      "ORF1a:L3606F\n",
      "ORF1a:T3646A\n",
      "ORF1b:S69F\n",
      "ORF1b:F183V\n",
      "ORF1b:P314L\n",
      "ORF1b:G662S\n",
      "ORF1b:P1000L\n",
      "ORF1b:H1087Y\n",
      "ORF1b:I1498V\n",
      "ORF1b:A1918V\n",
      "S:T19R\n",
      "S:T22I\n",
      "S:A27V\n",
      "S:E156-\n",
      "S:F157-\n",
      "S:R158G\n",
      "S:L452R\n",
      "S:T478K\n",
      "S:D614G\n",
      "S:P681R\n",
      "S:D950N\n",
      "S:G1085R\n",
      "ORF3a:T12I\n",
      "ORF3a:S26L\n",
      "ORF3a:R134H\n",
      "M:I82T\n",
      "ORF7a:T39I\n",
      "ORF7a:V82A\n",
      "ORF7a:T120I\n",
      "ORF7b:L4F\n",
      "ORF7b:T40I\n",
      "ORF8:L60-\n",
      "ORF8:L60F\n",
      "ORF8:C61-\n",
      "ORF8:V62-\n",
      "ORF8:D63-\n",
      "ORF8:E64-\n",
      "ORF8:A65-\n",
      "ORF8:G66-\n",
      "ORF8:S67F\n",
      "ORF8:K68*\n",
      "ORF8:D119-\n",
      "ORF8:F120-\n",
      "N:D63G\n",
      "N:R203M\n",
      "N:G215C\n",
      "N:D377Y\n",
      "ORF9b:T60A\n"
     ]
    }
   ],
   "source": [
    "for x in ordered_gmuts:\n",
    "    print(x)"
   ]
  },
  {
   "cell_type": "code",
   "execution_count": 72,
   "metadata": {},
   "outputs": [
    {
     "data": {
      "text/plain": [
       "ORF1a:M85-       1\n",
       "ORF1a:V1143F     3\n",
       "ORF1a:A1306S    97\n",
       "ORF1a:Q1784H    14\n",
       "ORF1a:L1853F     1\n",
       "                ..\n",
       "N:D63G          97\n",
       "N:R203M         97\n",
       "N:G215C         97\n",
       "N:D377Y         96\n",
       "ORF9b:T60A      97\n",
       "Length: 62, dtype: int64"
      ]
     },
     "execution_count": 72,
     "metadata": {},
     "output_type": "execute_result"
    }
   ],
   "source": [
    "dfaa_sub[ordered_gmuts].sum(axis=0)"
   ]
  },
  {
   "cell_type": "code",
   "execution_count": 73,
   "metadata": {
    "ExecuteTime": {
     "end_time": "2022-02-17T20:36:07.694292Z",
     "start_time": "2022-02-17T20:36:07.679413Z"
    }
   },
   "outputs": [
    {
     "data": {
      "text/plain": [
       "ORF1a:M85-       1\n",
       "ORF1a:V1143F     3\n",
       "ORF1a:A1306S    97\n",
       "ORF1a:Q1784H    14\n",
       "ORF1a:L1853F     1\n",
       "                ..\n",
       "N:D63G          97\n",
       "N:R203M         97\n",
       "N:G215C         97\n",
       "N:D377Y         96\n",
       "ORF9b:T60A      97\n",
       "Length: 62, dtype: int64"
      ]
     },
     "execution_count": 73,
     "metadata": {},
     "output_type": "execute_result"
    }
   ],
   "source": [
    "dfaa_sub[ordered_gmuts].sum(axis=0)"
   ]
  },
  {
   "cell_type": "code",
   "execution_count": 74,
   "metadata": {},
   "outputs": [],
   "source": [
    "samples_to_show = mb_deer_names"
   ]
  },
  {
   "cell_type": "code",
   "execution_count": 75,
   "metadata": {},
   "outputs": [
    {
     "data": {
      "text/plain": [
       "['ORF1a:M85-',\n",
       " 'ORF1a:V1143F',\n",
       " 'ORF1a:A1306S',\n",
       " 'ORF1a:Q1784H',\n",
       " 'ORF1a:L1853F',\n",
       " 'ORF1a:P2046L',\n",
       " 'ORF1a:H2125Y',\n",
       " 'ORF1a:S2242F',\n",
       " 'ORF1a:P2287S',\n",
       " 'ORF1a:A2554V',\n",
       " 'ORF1a:T2823I',\n",
       " 'ORF1a:V2930L',\n",
       " 'ORF1a:L3116F',\n",
       " 'ORF1a:T3255I',\n",
       " 'ORF1a:L3606F',\n",
       " 'ORF1a:T3646A',\n",
       " 'ORF1b:S69F',\n",
       " 'ORF1b:F183V',\n",
       " 'ORF1b:P314L',\n",
       " 'ORF1b:G662S',\n",
       " 'ORF1b:P1000L',\n",
       " 'ORF1b:H1087Y',\n",
       " 'ORF1b:I1498V',\n",
       " 'ORF1b:A1918V',\n",
       " 'S:T19R',\n",
       " 'S:T22I',\n",
       " 'S:A27V',\n",
       " 'S:E156-',\n",
       " 'S:F157-',\n",
       " 'S:R158G',\n",
       " 'S:L452R',\n",
       " 'S:T478K',\n",
       " 'S:D614G',\n",
       " 'S:P681R',\n",
       " 'S:D950N',\n",
       " 'S:G1085R',\n",
       " 'ORF3a:T12I',\n",
       " 'ORF3a:S26L',\n",
       " 'ORF3a:R134H',\n",
       " 'M:I82T',\n",
       " 'ORF7a:T39I',\n",
       " 'ORF7a:V82A',\n",
       " 'ORF7a:T120I',\n",
       " 'ORF7b:L4F',\n",
       " 'ORF7b:T40I',\n",
       " 'ORF8:L60-',\n",
       " 'ORF8:L60F',\n",
       " 'ORF8:C61-',\n",
       " 'ORF8:V62-',\n",
       " 'ORF8:D63-',\n",
       " 'ORF8:E64-',\n",
       " 'ORF8:A65-',\n",
       " 'ORF8:G66-',\n",
       " 'ORF8:S67F',\n",
       " 'ORF8:K68*',\n",
       " 'ORF8:D119-',\n",
       " 'ORF8:F120-',\n",
       " 'N:D63G',\n",
       " 'N:R203M',\n",
       " 'N:G215C',\n",
       " 'N:D377Y',\n",
       " 'ORF9b:T60A']"
      ]
     },
     "execution_count": 75,
     "metadata": {},
     "output_type": "execute_result"
    }
   ],
   "source": [
    "ordered_gmuts"
   ]
  },
  {
   "cell_type": "code",
   "execution_count": 76,
   "metadata": {},
   "outputs": [
    {
     "data": {
      "text/html": [
       "<div>\n",
       "<style scoped>\n",
       "    .dataframe tbody tr th:only-of-type {\n",
       "        vertical-align: middle;\n",
       "    }\n",
       "\n",
       "    .dataframe tbody tr th {\n",
       "        vertical-align: top;\n",
       "    }\n",
       "\n",
       "    .dataframe thead th {\n",
       "        text-align: right;\n",
       "    }\n",
       "</style>\n",
       "<table border=\"1\" class=\"dataframe\">\n",
       "  <thead>\n",
       "    <tr style=\"text-align: right;\">\n",
       "      <th></th>\n",
       "      <th>ORF1a:M85-</th>\n",
       "      <th>ORF1a:V1143F</th>\n",
       "      <th>ORF1a:A1306S</th>\n",
       "      <th>ORF1a:Q1784H</th>\n",
       "      <th>ORF1a:L1853F</th>\n",
       "      <th>ORF1a:P2046L</th>\n",
       "      <th>ORF1a:H2125Y</th>\n",
       "      <th>ORF1a:S2242F</th>\n",
       "      <th>ORF1a:P2287S</th>\n",
       "      <th>ORF1a:A2554V</th>\n",
       "      <th>...</th>\n",
       "      <th>ORF8:G66-</th>\n",
       "      <th>ORF8:S67F</th>\n",
       "      <th>ORF8:K68*</th>\n",
       "      <th>ORF8:D119-</th>\n",
       "      <th>ORF8:F120-</th>\n",
       "      <th>N:D63G</th>\n",
       "      <th>N:R203M</th>\n",
       "      <th>N:G215C</th>\n",
       "      <th>N:D377Y</th>\n",
       "      <th>ORF9b:T60A</th>\n",
       "    </tr>\n",
       "  </thead>\n",
       "  <tbody>\n",
       "    <tr>\n",
       "      <th>QC-4205</th>\n",
       "      <td>0</td>\n",
       "      <td>1</td>\n",
       "      <td>1</td>\n",
       "      <td>1</td>\n",
       "      <td>1</td>\n",
       "      <td>1</td>\n",
       "      <td>1</td>\n",
       "      <td>1</td>\n",
       "      <td>1</td>\n",
       "      <td>1</td>\n",
       "      <td>...</td>\n",
       "      <td>1</td>\n",
       "      <td>1</td>\n",
       "      <td>1</td>\n",
       "      <td>1</td>\n",
       "      <td>1</td>\n",
       "      <td>1</td>\n",
       "      <td>1</td>\n",
       "      <td>1</td>\n",
       "      <td>1</td>\n",
       "      <td>1</td>\n",
       "    </tr>\n",
       "    <tr>\n",
       "      <th>QC-4249</th>\n",
       "      <td>0</td>\n",
       "      <td>0</td>\n",
       "      <td>1</td>\n",
       "      <td>1</td>\n",
       "      <td>0</td>\n",
       "      <td>1</td>\n",
       "      <td>1</td>\n",
       "      <td>0</td>\n",
       "      <td>1</td>\n",
       "      <td>1</td>\n",
       "      <td>...</td>\n",
       "      <td>0</td>\n",
       "      <td>0</td>\n",
       "      <td>0</td>\n",
       "      <td>1</td>\n",
       "      <td>1</td>\n",
       "      <td>1</td>\n",
       "      <td>1</td>\n",
       "      <td>1</td>\n",
       "      <td>1</td>\n",
       "      <td>1</td>\n",
       "    </tr>\n",
       "    <tr>\n",
       "      <th>QC-4055</th>\n",
       "      <td>0</td>\n",
       "      <td>1</td>\n",
       "      <td>1</td>\n",
       "      <td>1</td>\n",
       "      <td>0</td>\n",
       "      <td>1</td>\n",
       "      <td>1</td>\n",
       "      <td>0</td>\n",
       "      <td>1</td>\n",
       "      <td>1</td>\n",
       "      <td>...</td>\n",
       "      <td>0</td>\n",
       "      <td>0</td>\n",
       "      <td>0</td>\n",
       "      <td>1</td>\n",
       "      <td>1</td>\n",
       "      <td>1</td>\n",
       "      <td>1</td>\n",
       "      <td>1</td>\n",
       "      <td>1</td>\n",
       "      <td>1</td>\n",
       "    </tr>\n",
       "    <tr>\n",
       "      <th>QC-4204</th>\n",
       "      <td>1</td>\n",
       "      <td>0</td>\n",
       "      <td>1</td>\n",
       "      <td>1</td>\n",
       "      <td>0</td>\n",
       "      <td>0</td>\n",
       "      <td>1</td>\n",
       "      <td>1</td>\n",
       "      <td>0</td>\n",
       "      <td>1</td>\n",
       "      <td>...</td>\n",
       "      <td>0</td>\n",
       "      <td>0</td>\n",
       "      <td>0</td>\n",
       "      <td>0</td>\n",
       "      <td>0</td>\n",
       "      <td>1</td>\n",
       "      <td>1</td>\n",
       "      <td>1</td>\n",
       "      <td>1</td>\n",
       "      <td>1</td>\n",
       "    </tr>\n",
       "  </tbody>\n",
       "</table>\n",
       "<p>4 rows × 62 columns</p>\n",
       "</div>"
      ],
      "text/plain": [
       "         ORF1a:M85-  ORF1a:V1143F  ORF1a:A1306S  ORF1a:Q1784H  ORF1a:L1853F  \\\n",
       "QC-4205           0             1             1             1             1   \n",
       "QC-4249           0             0             1             1             0   \n",
       "QC-4055           0             1             1             1             0   \n",
       "QC-4204           1             0             1             1             0   \n",
       "\n",
       "         ORF1a:P2046L  ORF1a:H2125Y  ORF1a:S2242F  ORF1a:P2287S  ORF1a:A2554V  \\\n",
       "QC-4205             1             1             1             1             1   \n",
       "QC-4249             1             1             0             1             1   \n",
       "QC-4055             1             1             0             1             1   \n",
       "QC-4204             0             1             1             0             1   \n",
       "\n",
       "         ...  ORF8:G66-  ORF8:S67F  ORF8:K68*  ORF8:D119-  ORF8:F120-  N:D63G  \\\n",
       "QC-4205  ...          1          1          1           1           1       1   \n",
       "QC-4249  ...          0          0          0           1           1       1   \n",
       "QC-4055  ...          0          0          0           1           1       1   \n",
       "QC-4204  ...          0          0          0           0           0       1   \n",
       "\n",
       "         N:R203M  N:G215C  N:D377Y  ORF9b:T60A  \n",
       "QC-4205        1        1        1           1  \n",
       "QC-4249        1        1        1           1  \n",
       "QC-4055        1        1        1           1  \n",
       "QC-4204        1        1        1           1  \n",
       "\n",
       "[4 rows x 62 columns]"
      ]
     },
     "execution_count": 76,
     "metadata": {},
     "output_type": "execute_result"
    }
   ],
   "source": [
    "dfaa_sub.loc[samples_to_show,:][ordered_gmuts]"
   ]
  },
  {
   "cell_type": "code",
   "execution_count": 77,
   "metadata": {},
   "outputs": [],
   "source": [
    "muts_in_gt50 = dfaa_sub.loc[samples_to_show,:][ordered_gmuts].sum(axis=0) >= 1"
   ]
  },
  {
   "cell_type": "code",
   "execution_count": 78,
   "metadata": {},
   "outputs": [
    {
     "data": {
      "text/plain": [
       "ORF1a:M85-      True\n",
       "ORF1a:V1143F    True\n",
       "ORF1a:A1306S    True\n",
       "ORF1a:Q1784H    True\n",
       "ORF1a:L1853F    True\n",
       "                ... \n",
       "N:D63G          True\n",
       "N:R203M         True\n",
       "N:G215C         True\n",
       "N:D377Y         True\n",
       "ORF9b:T60A      True\n",
       "Length: 62, dtype: bool"
      ]
     },
     "execution_count": 78,
     "metadata": {},
     "output_type": "execute_result"
    }
   ],
   "source": [
    "muts_in_gt50"
   ]
  },
  {
   "cell_type": "code",
   "execution_count": 79,
   "metadata": {},
   "outputs": [
    {
     "data": {
      "text/plain": [
       "62"
      ]
     },
     "execution_count": 79,
     "metadata": {},
     "output_type": "execute_result"
    }
   ],
   "source": [
    "len(ordered_gmuts)"
   ]
  },
  {
   "cell_type": "markdown",
   "metadata": {},
   "source": [
    "## Matrix of AA mutation binary absence/presence to gene name if present, dash if absent\n",
    "\n",
    "AA mutation sites with no sequencing coverage (Ns or gaps) were filled in with `*No Coverage`"
   ]
  },
  {
   "cell_type": "code",
   "execution_count": 80,
   "metadata": {
    "ExecuteTime": {
     "end_time": "2022-02-17T20:36:19.684858Z",
     "start_time": "2022-02-17T20:36:19.499092Z"
    }
   },
   "outputs": [
    {
     "name": "stderr",
     "output_type": "stream",
     "text": [
         ""
     ]
    }
   ],
   "source": [
    "for col in dfaa_sub:\n",
    "    gene,_ = col.split(':', maxsplit=1)\n",
    "    series = dfaa_sub[col]\n",
    "    series[series == 0] = '-'\n",
    "    series[series == 1] = gene"
   ]
  },
  {
   "cell_type": "code",
   "execution_count": 81,
   "metadata": {
    "ExecuteTime": {
     "end_time": "2022-02-18T18:50:38.870036Z",
     "start_time": "2022-02-18T18:50:38.814325Z"
    }
   },
   "outputs": [
    {
     "name": "stdout",
     "output_type": "stream",
     "text": [
      "S:E156-\n",
      "22028 22031\n",
      "21717 22261\n",
      "================================================================================\n",
      "S:F157-\n",
      "22031 22034\n",
      "21717 22261\n",
      "================================================================================\n",
      "S:R158G\n",
      "22034 22037\n",
      "21717 22261\n",
      "================================================================================\n",
      "ORF1a:S2242F\n",
      "6989 6992\n",
      "6860 7084\n",
      "================================================================================\n",
      "S:E156-\n",
      "22028 22031\n",
      "21744 22261\n",
      "================================================================================\n",
      "S:F157-\n",
      "22031 22034\n",
      "21744 22261\n",
      "================================================================================\n",
      "S:R158G\n",
      "22034 22037\n",
      "21744 22261\n",
      "================================================================================\n",
      "ORF1a:S2242F\n",
      "6989 6992\n",
      "6847 7058\n",
      "================================================================================\n",
      "S:E156-\n",
      "22028 22031\n",
      "21717 22262\n",
      "================================================================================\n",
      "S:F157-\n",
      "22031 22034\n",
      "21717 22262\n",
      "================================================================================\n",
      "S:R158G\n",
      "22034 22037\n",
      "21717 22262\n",
      "================================================================================\n",
      "ORF1a:S2242F\n",
      "6989 6992\n",
      "6847 7034\n",
      "================================================================================\n",
      "S:E156-\n",
      "22028 22031\n",
      "21717 22290\n",
      "================================================================================\n",
      "S:F157-\n",
      "22031 22034\n",
      "21717 22290\n",
      "================================================================================\n",
      "S:R158G\n",
      "22034 22037\n",
      "21717 22290\n",
      "================================================================================\n",
      "N:D377Y\n",
      "29402 29405\n",
      "29357 29510\n",
      "================================================================================\n",
      "ORF1a:S2242F\n",
      "6989 6992\n",
      "6847 7034\n",
      "================================================================================\n",
      "S:E156-\n",
      "22028 22031\n",
      "21717 22290\n",
      "================================================================================\n",
      "S:F157-\n",
      "22031 22034\n",
      "21717 22290\n",
      "================================================================================\n",
      "S:R158G\n",
      "22034 22037\n",
      "21717 22290\n",
      "================================================================================\n",
      "ORF1a:S2242F\n",
      "6989 6992\n",
      "6847 7058\n",
      "================================================================================\n",
      "ORF1a:S2242F\n",
      "6989 6992\n",
      "6847 7034\n",
      "================================================================================\n",
      "ORF1b:A1918V\n",
      "19219 19222\n",
      "18980 19570\n",
      "================================================================================\n",
      "S:E156-\n",
      "22028 22031\n",
      "21717 22290\n",
      "================================================================================\n",
      "S:F157-\n",
      "22031 22034\n",
      "21717 22290\n",
      "================================================================================\n",
      "S:R158G\n",
      "22034 22037\n",
      "21717 22290\n",
      "================================================================================\n",
      "ORF1a:V1143F\n",
      "3692 3695\n",
      "3506 4087\n",
      "================================================================================\n",
      "ORF1a:P2046L\n",
      "6401 6404\n",
      "6237 6495\n",
      "================================================================================\n",
      "ORF1a:P2287S\n",
      "7124 7127\n",
      "7073 7332\n",
      "================================================================================\n",
      "ORF1a:T2823I\n",
      "8732 8735\n",
      "8636 8940\n",
      "================================================================================\n",
      "ORF1b:I1498V\n",
      "17959 17962\n",
      "17739 17993\n",
      "================================================================================\n",
      "ORF1b:A1918V\n",
      "19219 19222\n",
      "19187 19612\n",
      "================================================================================\n",
      "S:E156-\n",
      "22028 22031\n",
      "21717 22542\n",
      "================================================================================\n",
      "S:F157-\n",
      "22031 22034\n",
      "21717 22542\n",
      "================================================================================\n",
      "S:R158G\n",
      "22034 22037\n",
      "21717 22542\n",
      "================================================================================\n",
      "S:L452R\n",
      "22916 22919\n",
      "22878 23144\n",
      "================================================================================\n",
      "S:T478K\n",
      "22994 22997\n",
      "22878 23144\n",
      "================================================================================\n",
      "ORF3a:R134H\n",
      "25792 25795\n",
      "25647 26147\n",
      "================================================================================\n",
      "ORF7a:V82A\n",
      "27637 27640\n",
      "27512 27893\n",
      "================================================================================\n",
      "ORF7a:T120I\n",
      "27751 27754\n",
      "27512 27893\n",
      "================================================================================\n",
      "ORF7b:L4F\n",
      "27765 27768\n",
      "27512 27893\n",
      "================================================================================\n",
      "ORF7b:T40I\n",
      "27873 27876\n",
      "27512 27893\n",
      "================================================================================\n",
      "ORF8:L60-\n",
      "28071 28074\n",
      "28035 28254\n",
      "================================================================================\n",
      "ORF8:L60F\n",
      "28071 28074\n",
      "28035 28254\n",
      "================================================================================\n",
      "ORF8:C61-\n",
      "28074 28077\n",
      "28035 28254\n",
      "================================================================================\n",
      "ORF8:V62-\n",
      "28077 28080\n",
      "28035 28254\n",
      "================================================================================\n",
      "ORF8:D63-\n",
      "28080 28083\n",
      "28035 28254\n",
      "================================================================================\n",
      "ORF8:E64-\n",
      "28083 28086\n",
      "28035 28254\n",
      "================================================================================\n",
      "ORF8:A65-\n",
      "28086 28089\n",
      "28035 28254\n",
      "================================================================================\n",
      "ORF8:G66-\n",
      "28089 28092\n",
      "28035 28254\n",
      "================================================================================\n",
      "ORF8:S67F\n",
      "28092 28095\n",
      "28035 28254\n",
      "================================================================================\n",
      "ORF8:K68*\n",
      "28095 28098\n",
      "28035 28254\n",
      "================================================================================\n",
      "ORF8:D119-\n",
      "28248 28251\n",
      "28035 28254\n",
      "================================================================================\n",
      "ORF8:F120-\n",
      "28251 28254\n",
      "28035 28254\n",
      "================================================================================\n",
      "S:E156-\n",
      "22028 22031\n",
      "21717 22214\n",
      "================================================================================\n",
      "S:F157-\n",
      "22031 22034\n",
      "21717 22214\n",
      "================================================================================\n",
      "S:R158G\n",
      "22034 22037\n",
      "21717 22214\n",
      "================================================================================\n",
      "S:E156-\n",
      "22028 22031\n",
      "21717 22290\n",
      "================================================================================\n",
      "S:F157-\n",
      "22031 22034\n",
      "21717 22290\n",
      "================================================================================\n",
      "S:R158G\n",
      "22034 22037\n",
      "21717 22290\n",
      "================================================================================\n",
      "S:E156-\n",
      "22028 22031\n",
      "21717 22189\n",
      "================================================================================\n",
      "S:F157-\n",
      "22031 22034\n",
      "21717 22189\n",
      "================================================================================\n",
      "S:R158G\n",
      "22034 22037\n",
      "21717 22189\n",
      "================================================================================\n",
      "S:E156-\n",
      "22028 22031\n",
      "21744 22290\n",
      "================================================================================\n",
      "S:F157-\n",
      "22031 22034\n",
      "21744 22290\n",
      "================================================================================\n",
      "S:R158G\n",
      "22034 22037\n",
      "21744 22290\n",
      "================================================================================\n",
      "S:E156-\n",
      "22028 22031\n",
      "21717 22271\n",
      "================================================================================\n",
      "S:F157-\n",
      "22031 22034\n",
      "21717 22271\n",
      "================================================================================\n",
      "S:R158G\n",
      "22034 22037\n",
      "21717 22271\n",
      "================================================================================\n",
      "ORF1a:S2242F\n",
      "6989 6992\n",
      "6847 7058\n",
      "================================================================================\n",
      "S:E156-\n",
      "22028 22031\n",
      "21717 22189\n",
      "================================================================================\n",
      "S:F157-\n",
      "22031 22034\n",
      "21717 22189\n",
      "================================================================================\n",
      "S:R158G\n",
      "22034 22037\n",
      "21717 22189\n",
      "================================================================================\n",
      "ORF7a:T120I\n",
      "27751 27754\n",
      "27699 27834\n",
      "================================================================================\n",
      "ORF7b:L4F\n",
      "27765 27768\n",
      "27699 27834\n",
      "================================================================================\n",
      "S:E156-\n",
      "22028 22031\n",
      "21745 22104\n",
      "================================================================================\n",
      "S:F157-\n",
      "22031 22034\n",
      "21745 22104\n",
      "================================================================================\n",
      "S:R158G\n",
      "22034 22037\n",
      "21745 22104\n",
      "================================================================================\n",
      "ORF1a:V1143F\n",
      "3692 3695\n",
      "3471 3778\n",
      "================================================================================\n",
      "ORF1a:S2242F\n",
      "6989 6992\n",
      "6750 7022\n",
      "================================================================================\n",
      "ORF1a:L3606F\n",
      "11081 11084\n",
      "10817 11116\n",
      "================================================================================\n",
      "ORF7a:T120I\n",
      "27751 27754\n",
      "27648 27834\n",
      "================================================================================\n",
      "ORF7b:L4F\n",
      "27765 27768\n",
      "27648 27834\n",
      "================================================================================\n",
      "ORF7a:T120I\n",
      "27751 27754\n",
      "27680 27834\n",
      "================================================================================\n",
      "ORF7b:L4F\n",
      "27765 27768\n",
      "27680 27834\n",
      "================================================================================\n",
      "ORF1a:Q1784H\n",
      "5615 5618\n",
      "5611 5817\n",
      "================================================================================\n",
      "ORF1a:P2046L\n",
      "6401 6404\n",
      "6342 6594\n",
      "================================================================================\n",
      "ORF1a:P2287S\n",
      "7124 7127\n",
      "7125 7429\n",
      "================================================================================\n",
      "ORF1b:S69F\n",
      "13672 13675\n",
      "13623 13901\n",
      "================================================================================\n",
      "ORF7a:T39I\n",
      "27508 27511\n",
      "27257 27511\n",
      "================================================================================\n",
      "ORF7a:T120I\n",
      "27751 27754\n",
      "27648 27859\n",
      "================================================================================\n",
      "ORF7b:L4F\n",
      "27765 27768\n",
      "27648 27859\n",
      "================================================================================\n",
      "ORF7a:T120I\n",
      "27751 27754\n",
      "27673 27834\n",
      "================================================================================\n",
      "ORF7b:L4F\n",
      "27765 27768\n",
      "27673 27834\n",
      "================================================================================\n",
      "ORF1a:V1143F\n",
      "3692 3695\n",
      "3471 3778\n",
      "================================================================================\n",
      "ORF1a:S2242F\n",
      "6989 6992\n",
      "6750 7022\n",
      "================================================================================\n",
      "ORF1a:L3606F\n",
      "11081 11084\n",
      "10817 11116\n",
      "================================================================================\n",
      "ORF7a:T120I\n",
      "27751 27754\n",
      "27648 27859\n",
      "================================================================================\n",
      "ORF7b:L4F\n",
      "27765 27768\n",
      "27648 27859\n",
      "================================================================================\n",
      "ORF7a:T120I\n",
      "27751 27754\n",
      "27648 27834\n",
      "================================================================================\n",
      "ORF7b:L4F\n",
      "27765 27768\n",
      "27648 27834\n",
      "================================================================================\n",
      "ORF7a:T120I\n",
      "27751 27754\n",
      "27752 27756\n",
      "================================================================================\n",
      "ORF7b:L4F\n",
      "27765 27768\n",
      "27767 27833\n",
      "================================================================================\n",
      "ORF7b:L4F\n",
      "27765 27768\n",
      "27768 27768\n",
      "================================================================================\n",
      "ORF7a:T120I\n",
      "27751 27754\n",
      "27736 27808\n",
      "================================================================================\n",
      "ORF7b:L4F\n",
      "27765 27768\n",
      "27736 27808\n",
      "================================================================================\n",
      "ORF7a:T120I\n",
      "27751 27754\n",
      "27695 27833\n",
      "================================================================================\n",
      "ORF7b:L4F\n",
      "27765 27768\n",
      "27695 27833\n",
      "================================================================================\n",
      "ORF7a:T120I\n",
      "27751 27754\n",
      "27746 27763\n",
      "================================================================================\n",
      "ORF7a:T120I\n",
      "27751 27754\n",
      "27648 27834\n",
      "================================================================================\n",
      "ORF7b:L4F\n",
      "27765 27768\n",
      "27648 27834\n",
      "================================================================================\n",
      "ORF1a:L3606F\n",
      "11081 11084\n",
      "10817 11116\n",
      "================================================================================\n",
      "ORF7a:T120I\n",
      "27751 27754\n",
      "27648 27833\n",
      "================================================================================\n",
      "ORF7b:L4F\n",
      "27765 27768\n",
      "27648 27833\n",
      "================================================================================\n",
      "ORF7a:T120I\n",
      "27751 27754\n",
      "27648 27834\n",
      "================================================================================\n",
      "ORF7b:L4F\n",
      "27765 27768\n",
      "27648 27834\n",
      "================================================================================\n",
      "ORF1a:V1143F\n",
      "3692 3695\n",
      "3494 3778\n",
      "================================================================================\n",
      "ORF1a:V1143F\n",
      "3692 3695\n",
      "3495 3778\n",
      "================================================================================\n",
      "ORF1a:S2242F\n",
      "6989 6992\n",
      "6750 6999\n",
      "================================================================================\n",
      "ORF7a:T120I\n",
      "27751 27754\n",
      "27673 27833\n",
      "================================================================================\n",
      "ORF7b:L4F\n",
      "27765 27768\n",
      "27673 27833\n",
      "================================================================================\n"
     ]
    }
   ],
   "source": [
    "for sample, missing_ranges in sample_missing_regions.items():    \n",
    "    for gmut in ordered_gmuts:\n",
    "        gene, aapos = split_mut(gmut)\n",
    "        start, end = get_gene_nt_coords(gff, gene, aapos)\n",
    "        for missing_start, missing_end in missing_ranges:\n",
    "            if missing_end >= start >= missing_start or missing_end >= end >= missing_start:\n",
    "                print(gmut)\n",
    "                print(start, end)\n",
    "                print(missing_start, missing_end)\n",
    "                print('='*80)\n",
    "                dfaa_sub.loc[sample, gmut] = '*No Coverage'"
   ]
  },
  {
   "cell_type": "code",
   "execution_count": 82,
   "metadata": {
    "ExecuteTime": {
     "end_time": "2022-02-18T18:50:39.537077Z",
     "start_time": "2022-02-18T18:50:39.496231Z"
    }
   },
   "outputs": [
    {
     "data": {
      "text/html": [
       "<div>\n",
       "<style scoped>\n",
       "    .dataframe tbody tr th:only-of-type {\n",
       "        vertical-align: middle;\n",
       "    }\n",
       "\n",
       "    .dataframe tbody tr th {\n",
       "        vertical-align: top;\n",
       "    }\n",
       "\n",
       "    .dataframe thead th {\n",
       "        text-align: right;\n",
       "    }\n",
       "</style>\n",
       "<table border=\"1\" class=\"dataframe\">\n",
       "  <thead>\n",
       "    <tr style=\"text-align: right;\">\n",
       "      <th></th>\n",
       "      <th>M:I82T</th>\n",
       "      <th>N:D377Y</th>\n",
       "      <th>N:D63G</th>\n",
       "      <th>N:G215C</th>\n",
       "      <th>N:R203M</th>\n",
       "      <th>ORF1a:A1306S</th>\n",
       "      <th>ORF1a:A2554V</th>\n",
       "      <th>ORF1a:H2125Y</th>\n",
       "      <th>ORF1a:L1853F</th>\n",
       "      <th>ORF1a:L3116F</th>\n",
       "      <th>...</th>\n",
       "      <th>S:D950N</th>\n",
       "      <th>S:E156-</th>\n",
       "      <th>S:F157-</th>\n",
       "      <th>S:G1085R</th>\n",
       "      <th>S:L452R</th>\n",
       "      <th>S:P681R</th>\n",
       "      <th>S:R158G</th>\n",
       "      <th>S:T19R</th>\n",
       "      <th>S:T22I</th>\n",
       "      <th>S:T478K</th>\n",
       "    </tr>\n",
       "    <tr>\n",
       "      <th>sample</th>\n",
       "      <th></th>\n",
       "      <th></th>\n",
       "      <th></th>\n",
       "      <th></th>\n",
       "      <th></th>\n",
       "      <th></th>\n",
       "      <th></th>\n",
       "      <th></th>\n",
       "      <th></th>\n",
       "      <th></th>\n",
       "      <th></th>\n",
       "      <th></th>\n",
       "      <th></th>\n",
       "      <th></th>\n",
       "      <th></th>\n",
       "      <th></th>\n",
       "      <th></th>\n",
       "      <th></th>\n",
       "      <th></th>\n",
       "      <th></th>\n",
       "      <th></th>\n",
       "    </tr>\n",
       "  </thead>\n",
       "  <tbody>\n",
       "    <tr>\n",
       "      <th>MZ839391.1</th>\n",
       "      <td>M</td>\n",
       "      <td>N</td>\n",
       "      <td>N</td>\n",
       "      <td>N</td>\n",
       "      <td>N</td>\n",
       "      <td>ORF1a</td>\n",
       "      <td>ORF1a</td>\n",
       "      <td>ORF1a</td>\n",
       "      <td>-</td>\n",
       "      <td>-</td>\n",
       "      <td>...</td>\n",
       "      <td>S</td>\n",
       "      <td>*No Coverage</td>\n",
       "      <td>*No Coverage</td>\n",
       "      <td>S</td>\n",
       "      <td>S</td>\n",
       "      <td>S</td>\n",
       "      <td>*No Coverage</td>\n",
       "      <td>S</td>\n",
       "      <td>-</td>\n",
       "      <td>S</td>\n",
       "    </tr>\n",
       "    <tr>\n",
       "      <th>USA/CT-Yale-12907/2021</th>\n",
       "      <td>M</td>\n",
       "      <td>N</td>\n",
       "      <td>N</td>\n",
       "      <td>N</td>\n",
       "      <td>N</td>\n",
       "      <td>ORF1a</td>\n",
       "      <td>ORF1a</td>\n",
       "      <td>ORF1a</td>\n",
       "      <td>-</td>\n",
       "      <td>-</td>\n",
       "      <td>...</td>\n",
       "      <td>S</td>\n",
       "      <td>S</td>\n",
       "      <td>S</td>\n",
       "      <td>S</td>\n",
       "      <td>S</td>\n",
       "      <td>S</td>\n",
       "      <td>S</td>\n",
       "      <td>S</td>\n",
       "      <td>-</td>\n",
       "      <td>S</td>\n",
       "    </tr>\n",
       "    <tr>\n",
       "      <th>MZ778136.1</th>\n",
       "      <td>M</td>\n",
       "      <td>N</td>\n",
       "      <td>N</td>\n",
       "      <td>N</td>\n",
       "      <td>N</td>\n",
       "      <td>ORF1a</td>\n",
       "      <td>ORF1a</td>\n",
       "      <td>ORF1a</td>\n",
       "      <td>-</td>\n",
       "      <td>-</td>\n",
       "      <td>...</td>\n",
       "      <td>S</td>\n",
       "      <td>S</td>\n",
       "      <td>S</td>\n",
       "      <td>S</td>\n",
       "      <td>S</td>\n",
       "      <td>S</td>\n",
       "      <td>S</td>\n",
       "      <td>S</td>\n",
       "      <td>-</td>\n",
       "      <td>S</td>\n",
       "    </tr>\n",
       "    <tr>\n",
       "      <th>QC-4205</th>\n",
       "      <td>M</td>\n",
       "      <td>N</td>\n",
       "      <td>N</td>\n",
       "      <td>N</td>\n",
       "      <td>N</td>\n",
       "      <td>ORF1a</td>\n",
       "      <td>ORF1a</td>\n",
       "      <td>ORF1a</td>\n",
       "      <td>ORF1a</td>\n",
       "      <td>ORF1a</td>\n",
       "      <td>...</td>\n",
       "      <td>S</td>\n",
       "      <td>S</td>\n",
       "      <td>S</td>\n",
       "      <td>S</td>\n",
       "      <td>S</td>\n",
       "      <td>S</td>\n",
       "      <td>S</td>\n",
       "      <td>S</td>\n",
       "      <td>S</td>\n",
       "      <td>S</td>\n",
       "    </tr>\n",
       "    <tr>\n",
       "      <th>MZ801696.1</th>\n",
       "      <td>M</td>\n",
       "      <td>N</td>\n",
       "      <td>N</td>\n",
       "      <td>N</td>\n",
       "      <td>N</td>\n",
       "      <td>ORF1a</td>\n",
       "      <td>ORF1a</td>\n",
       "      <td>ORF1a</td>\n",
       "      <td>-</td>\n",
       "      <td>-</td>\n",
       "      <td>...</td>\n",
       "      <td>S</td>\n",
       "      <td>S</td>\n",
       "      <td>S</td>\n",
       "      <td>S</td>\n",
       "      <td>S</td>\n",
       "      <td>S</td>\n",
       "      <td>S</td>\n",
       "      <td>S</td>\n",
       "      <td>-</td>\n",
       "      <td>S</td>\n",
       "    </tr>\n",
       "    <tr>\n",
       "      <th>...</th>\n",
       "      <td>...</td>\n",
       "      <td>...</td>\n",
       "      <td>...</td>\n",
       "      <td>...</td>\n",
       "      <td>...</td>\n",
       "      <td>...</td>\n",
       "      <td>...</td>\n",
       "      <td>...</td>\n",
       "      <td>...</td>\n",
       "      <td>...</td>\n",
       "      <td>...</td>\n",
       "      <td>...</td>\n",
       "      <td>...</td>\n",
       "      <td>...</td>\n",
       "      <td>...</td>\n",
       "      <td>...</td>\n",
       "      <td>...</td>\n",
       "      <td>...</td>\n",
       "      <td>...</td>\n",
       "      <td>...</td>\n",
       "      <td>...</td>\n",
       "    </tr>\n",
       "    <tr>\n",
       "      <th>OL662716.1</th>\n",
       "      <td>M</td>\n",
       "      <td>N</td>\n",
       "      <td>N</td>\n",
       "      <td>N</td>\n",
       "      <td>N</td>\n",
       "      <td>ORF1a</td>\n",
       "      <td>ORF1a</td>\n",
       "      <td>ORF1a</td>\n",
       "      <td>-</td>\n",
       "      <td>-</td>\n",
       "      <td>...</td>\n",
       "      <td>S</td>\n",
       "      <td>S</td>\n",
       "      <td>S</td>\n",
       "      <td>S</td>\n",
       "      <td>S</td>\n",
       "      <td>S</td>\n",
       "      <td>S</td>\n",
       "      <td>S</td>\n",
       "      <td>-</td>\n",
       "      <td>S</td>\n",
       "    </tr>\n",
       "    <tr>\n",
       "      <th>OL662092.1</th>\n",
       "      <td>M</td>\n",
       "      <td>N</td>\n",
       "      <td>N</td>\n",
       "      <td>N</td>\n",
       "      <td>N</td>\n",
       "      <td>ORF1a</td>\n",
       "      <td>ORF1a</td>\n",
       "      <td>ORF1a</td>\n",
       "      <td>-</td>\n",
       "      <td>-</td>\n",
       "      <td>...</td>\n",
       "      <td>S</td>\n",
       "      <td>S</td>\n",
       "      <td>S</td>\n",
       "      <td>S</td>\n",
       "      <td>S</td>\n",
       "      <td>S</td>\n",
       "      <td>S</td>\n",
       "      <td>S</td>\n",
       "      <td>-</td>\n",
       "      <td>S</td>\n",
       "    </tr>\n",
       "    <tr>\n",
       "      <th>OP930368.1</th>\n",
       "      <td>M</td>\n",
       "      <td>N</td>\n",
       "      <td>N</td>\n",
       "      <td>N</td>\n",
       "      <td>N</td>\n",
       "      <td>ORF1a</td>\n",
       "      <td>ORF1a</td>\n",
       "      <td>ORF1a</td>\n",
       "      <td>-</td>\n",
       "      <td>-</td>\n",
       "      <td>...</td>\n",
       "      <td>S</td>\n",
       "      <td>S</td>\n",
       "      <td>S</td>\n",
       "      <td>S</td>\n",
       "      <td>S</td>\n",
       "      <td>S</td>\n",
       "      <td>S</td>\n",
       "      <td>S</td>\n",
       "      <td>-</td>\n",
       "      <td>S</td>\n",
       "    </tr>\n",
       "    <tr>\n",
       "      <th>OL718610.1</th>\n",
       "      <td>M</td>\n",
       "      <td>N</td>\n",
       "      <td>N</td>\n",
       "      <td>N</td>\n",
       "      <td>N</td>\n",
       "      <td>ORF1a</td>\n",
       "      <td>ORF1a</td>\n",
       "      <td>ORF1a</td>\n",
       "      <td>-</td>\n",
       "      <td>-</td>\n",
       "      <td>...</td>\n",
       "      <td>S</td>\n",
       "      <td>S</td>\n",
       "      <td>S</td>\n",
       "      <td>S</td>\n",
       "      <td>S</td>\n",
       "      <td>S</td>\n",
       "      <td>S</td>\n",
       "      <td>S</td>\n",
       "      <td>-</td>\n",
       "      <td>S</td>\n",
       "    </tr>\n",
       "    <tr>\n",
       "      <th>OL846289.1</th>\n",
       "      <td>M</td>\n",
       "      <td>N</td>\n",
       "      <td>N</td>\n",
       "      <td>N</td>\n",
       "      <td>N</td>\n",
       "      <td>ORF1a</td>\n",
       "      <td>ORF1a</td>\n",
       "      <td>ORF1a</td>\n",
       "      <td>-</td>\n",
       "      <td>-</td>\n",
       "      <td>...</td>\n",
       "      <td>S</td>\n",
       "      <td>S</td>\n",
       "      <td>S</td>\n",
       "      <td>S</td>\n",
       "      <td>S</td>\n",
       "      <td>S</td>\n",
       "      <td>S</td>\n",
       "      <td>S</td>\n",
       "      <td>-</td>\n",
       "      <td>S</td>\n",
       "    </tr>\n",
       "  </tbody>\n",
       "</table>\n",
       "<p>97 rows × 62 columns</p>\n",
       "</div>"
      ],
      "text/plain": [
       "                       M:I82T N:D377Y N:D63G N:G215C N:R203M ORF1a:A1306S  \\\n",
       "sample                                                                      \n",
       "MZ839391.1                  M       N      N       N       N        ORF1a   \n",
       "USA/CT-Yale-12907/2021      M       N      N       N       N        ORF1a   \n",
       "MZ778136.1                  M       N      N       N       N        ORF1a   \n",
       "QC-4205                     M       N      N       N       N        ORF1a   \n",
       "MZ801696.1                  M       N      N       N       N        ORF1a   \n",
       "...                       ...     ...    ...     ...     ...          ...   \n",
       "OL662716.1                  M       N      N       N       N        ORF1a   \n",
       "OL662092.1                  M       N      N       N       N        ORF1a   \n",
       "OP930368.1                  M       N      N       N       N        ORF1a   \n",
       "OL718610.1                  M       N      N       N       N        ORF1a   \n",
       "OL846289.1                  M       N      N       N       N        ORF1a   \n",
       "\n",
       "                       ORF1a:A2554V ORF1a:H2125Y ORF1a:L1853F ORF1a:L3116F  \\\n",
       "sample                                                                       \n",
       "MZ839391.1                    ORF1a        ORF1a            -            -   \n",
       "USA/CT-Yale-12907/2021        ORF1a        ORF1a            -            -   \n",
       "MZ778136.1                    ORF1a        ORF1a            -            -   \n",
       "QC-4205                       ORF1a        ORF1a        ORF1a        ORF1a   \n",
       "MZ801696.1                    ORF1a        ORF1a            -            -   \n",
       "...                             ...          ...          ...          ...   \n",
       "OL662716.1                    ORF1a        ORF1a            -            -   \n",
       "OL662092.1                    ORF1a        ORF1a            -            -   \n",
       "OP930368.1                    ORF1a        ORF1a            -            -   \n",
       "OL718610.1                    ORF1a        ORF1a            -            -   \n",
       "OL846289.1                    ORF1a        ORF1a            -            -   \n",
       "\n",
       "                        ... S:D950N       S:E156-       S:F157- S:G1085R  \\\n",
       "sample                  ...                                                \n",
       "MZ839391.1              ...       S  *No Coverage  *No Coverage        S   \n",
       "USA/CT-Yale-12907/2021  ...       S             S             S        S   \n",
       "MZ778136.1              ...       S             S             S        S   \n",
       "QC-4205                 ...       S             S             S        S   \n",
       "MZ801696.1              ...       S             S             S        S   \n",
       "...                     ...     ...           ...           ...      ...   \n",
       "OL662716.1              ...       S             S             S        S   \n",
       "OL662092.1              ...       S             S             S        S   \n",
       "OP930368.1              ...       S             S             S        S   \n",
       "OL718610.1              ...       S             S             S        S   \n",
       "OL846289.1              ...       S             S             S        S   \n",
       "\n",
       "                       S:L452R S:P681R       S:R158G S:T19R S:T22I S:T478K  \n",
       "sample                                                                      \n",
       "MZ839391.1                   S       S  *No Coverage      S      -       S  \n",
       "USA/CT-Yale-12907/2021       S       S             S      S      -       S  \n",
       "MZ778136.1                   S       S             S      S      -       S  \n",
       "QC-4205                      S       S             S      S      S       S  \n",
       "MZ801696.1                   S       S             S      S      -       S  \n",
       "...                        ...     ...           ...    ...    ...     ...  \n",
       "OL662716.1                   S       S             S      S      -       S  \n",
       "OL662092.1                   S       S             S      S      -       S  \n",
       "OP930368.1                   S       S             S      S      -       S  \n",
       "OL718610.1                   S       S             S      S      -       S  \n",
       "OL846289.1                   S       S             S      S      -       S  \n",
       "\n",
       "[97 rows x 62 columns]"
      ]
     },
     "execution_count": 82,
     "metadata": {},
     "output_type": "execute_result"
    }
   ],
   "source": [
    "dfaa_sub"
   ]
  },
  {
   "cell_type": "code",
   "execution_count": 83,
   "metadata": {},
   "outputs": [],
   "source": [
    "dfaa_sub.loc[:, ordered_gmuts].to_csv('aa-matrix.tsv', sep='\\t')"
   ]
  },
  {
   "cell_type": "code",
   "execution_count": 84,
   "metadata": {},
   "outputs": [],
   "source": [
    "import numpy as np"
   ]
  },
  {
   "cell_type": "code",
   "execution_count": 85,
   "metadata": {},
   "outputs": [
    {
     "data": {
      "text/plain": [
       "['*No Coverage',\n",
       " '-',\n",
       " 'M',\n",
       " 'N',\n",
       " 'ORF1a',\n",
       " 'ORF1b',\n",
       " 'ORF3a',\n",
       " 'ORF7a',\n",
       " 'ORF7b',\n",
       " 'ORF8',\n",
       " 'ORF9b',\n",
       " 'S']"
      ]
     },
     "execution_count": 85,
     "metadata": {},
     "output_type": "execute_result"
    }
   ],
   "source": [
    "list(np.unique(dfaa_sub.values))"
   ]
  },
  {
   "cell_type": "code",
   "execution_count": 86,
   "metadata": {
    "ExecuteTime": {
     "end_time": "2022-02-18T18:50:39.647479Z",
     "start_time": "2022-02-18T18:50:39.642391Z"
    }
   },
   "outputs": [],
   "source": [
    "dfaa_sub[ordered_gmuts].to_csv('aa-matrix.tsv', sep='\\t')"
   ]
  },
  {
   "cell_type": "code",
   "execution_count": 87,
   "metadata": {
    "ExecuteTime": {
     "end_time": "2022-02-18T18:50:39.839163Z",
     "start_time": "2022-02-18T18:50:39.832476Z"
    }
   },
   "outputs": [],
   "source": [
    "dfaa_sub = dfaa_sub[ordered_gmuts]"
   ]
  },
  {
   "cell_type": "code",
   "execution_count": 88,
   "metadata": {
    "ExecuteTime": {
     "end_time": "2022-02-18T18:50:40.016504Z",
     "start_time": "2022-02-18T18:50:40.000577Z"
    }
   },
   "outputs": [],
   "source": [
    "mut_pattern_samples = defaultdict(list)\n",
    "for sample, mut_pattern in dfaa_sub.apply(lambda x: '|'.join(x), axis=1).items():\n",
    "    mut_pattern_samples[mut_pattern].append(sample)"
   ]
  },
  {
   "cell_type": "markdown",
   "metadata": {},
   "source": [
    "Output basic table of sample names and number of collapsed taxa represented by a sample."
   ]
  },
  {
   "cell_type": "code",
   "execution_count": 89,
   "metadata": {
    "ExecuteTime": {
     "end_time": "2022-02-18T18:50:40.192289Z",
     "start_time": "2022-02-18T18:50:40.183656Z"
    }
   },
   "outputs": [],
   "source": [
    "nr_samples = []\n",
    "with open('aa-mut-pattern-collapsed-count.tsv', 'w') as fout:\n",
    "    for samples in mut_pattern_samples.values():\n",
    "        sample = samples[0]\n",
    "        nr_samples.append(sample)\n",
    "        fout.write(f'{sample}\\t{len(samples) - 1}\\n')"
   ]
  },
  {
   "cell_type": "code",
   "execution_count": 90,
   "metadata": {
    "ExecuteTime": {
     "end_time": "2022-02-18T18:50:40.678424Z",
     "start_time": "2022-02-18T18:50:40.670214Z"
    }
   },
   "outputs": [
    {
     "data": {
      "text/plain": [
       "21"
      ]
     },
     "execution_count": 90,
     "metadata": {},
     "output_type": "execute_result"
    }
   ],
   "source": [
    "len(nr_samples)"
   ]
  },
  {
   "cell_type": "code",
   "execution_count": 91,
   "metadata": {
    "ExecuteTime": {
     "end_time": "2022-02-18T18:50:41.009948Z",
     "start_time": "2022-02-18T18:50:40.999638Z"
    }
   },
   "outputs": [],
   "source": [
    "dfaa_sub.loc[nr_samples,:].to_csv('aa-matrix-collapsed-nr-samples.tsv', sep='\\t')"
   ]
  },
  {
   "cell_type": "code",
   "execution_count": 108,
   "metadata": {
    "ExecuteTime": {
     "end_time": "2022-02-18T18:50:42.522342Z",
     "start_time": "2022-02-18T18:50:42.520339Z"
    }
   },
   "outputs": [],
   "source": [
    "from Bio import Phylo"
   ]
  },
  {
   "cell_type": "code",
   "execution_count": 109,
   "metadata": {
    "ExecuteTime": {
     "end_time": "2022-02-18T18:50:42.680400Z",
     "start_time": "2022-02-18T18:50:42.673670Z"
    }
   },
   "outputs": [],
   "source": [
    "subtree = Phylo.read('iqtree-2023-03-29-QC-WTD-and-related-GISAID-NCBI.treefile', 'newick')"
   ]
  },
  {
   "cell_type": "code",
   "execution_count": 110,
   "metadata": {
    "ExecuteTime": {
     "end_time": "2022-02-18T18:50:42.857412Z",
     "start_time": "2022-02-18T18:50:42.846379Z"
    }
   },
   "outputs": [
    {
     "data": {
      "text/plain": [
       "98"
      ]
     },
     "execution_count": 110,
     "metadata": {},
     "output_type": "execute_result"
    }
   ],
   "source": [
    "subtree.count_terminals()"
   ]
  },
  {
   "cell_type": "code",
   "execution_count": 111,
   "metadata": {},
   "outputs": [],
   "source": [
    "subtree.root_with_outgroup('MN908947.3')"
   ]
  },
  {
   "cell_type": "code",
   "execution_count": 113,
   "metadata": {},
   "outputs": [
    {
     "data": {
      "text/plain": [
       "Clade()"
      ]
     },
     "execution_count": 113,
     "metadata": {},
     "output_type": "execute_result"
    }
   ],
   "source": [
    "subtree.prune('MN908947.3')"
   ]
  },
  {
   "cell_type": "code",
   "execution_count": 114,
   "metadata": {
    "ExecuteTime": {
     "end_time": "2022-02-18T18:50:42.857412Z",
     "start_time": "2022-02-18T18:50:42.846379Z"
    }
   },
   "outputs": [
    {
     "data": {
      "text/plain": [
       "97"
      ]
     },
     "execution_count": 114,
     "metadata": {},
     "output_type": "execute_result"
    }
   ],
   "source": [
    "subtree.count_terminals()"
   ]
  },
  {
   "cell_type": "code",
   "execution_count": 115,
   "metadata": {},
   "outputs": [
    {
     "data": {
      "text/plain": [
       "1"
      ]
     },
     "execution_count": 115,
     "metadata": {},
     "output_type": "execute_result"
    }
   ],
   "source": [
    "Phylo.write(subtree, 'tree-full.newick', 'newick', format_branch_length=\"%f\")"
   ]
  },
  {
   "cell_type": "code",
   "execution_count": 95,
   "metadata": {
    "ExecuteTime": {
     "end_time": "2022-02-18T18:50:43.015165Z",
     "start_time": "2022-02-18T18:50:43.005247Z"
    }
   },
   "outputs": [],
   "source": [
    "name_node = {n.name: n for n in subtree.get_terminals()}"
   ]
  },
  {
   "cell_type": "code",
   "execution_count": 96,
   "metadata": {},
   "outputs": [
    {
     "data": {
      "text/plain": [
       "['MZ839391.1',\n",
       " 'USA/CT-Yale-12907/2021',\n",
       " 'MZ778136.1',\n",
       " 'QC-4205',\n",
       " 'MZ831164.1',\n",
       " 'QC-4249',\n",
       " 'Canada/QC-L00415260001B/2021',\n",
       " 'MZ831131.1',\n",
       " 'QC-4055',\n",
       " 'QC-4204',\n",
       " 'OK035071.1',\n",
       " 'OK176181.1',\n",
       " 'OK089805.1',\n",
       " 'OK179639.1',\n",
       " 'OL545998.1',\n",
       " 'OL564517.1',\n",
       " 'OL662701.1',\n",
       " 'OL662700.1',\n",
       " 'OL662716.1',\n",
       " 'OL718610.1',\n",
       " 'OL846289.1']"
      ]
     },
     "execution_count": 96,
     "metadata": {},
     "output_type": "execute_result"
    }
   ],
   "source": [
    "nr_samples"
   ]
  },
  {
   "cell_type": "code",
   "execution_count": 97,
   "metadata": {},
   "outputs": [],
   "source": [
    "samples_to_show = set(nr_samples) | {'MN908947.3'}"
   ]
  },
  {
   "cell_type": "code",
   "execution_count": 98,
   "metadata": {},
   "outputs": [
    {
     "data": {
      "text/plain": [
       "{'Canada/QC-L00415260001B/2021',\n",
       " 'MN908947.3',\n",
       " 'MZ778136.1',\n",
       " 'MZ831131.1',\n",
       " 'MZ831164.1',\n",
       " 'MZ839391.1',\n",
       " 'OK035071.1',\n",
       " 'OK089805.1',\n",
       " 'OK176181.1',\n",
       " 'OK179639.1',\n",
       " 'OL545998.1',\n",
       " 'OL564517.1',\n",
       " 'OL662700.1',\n",
       " 'OL662701.1',\n",
       " 'OL662716.1',\n",
       " 'OL718610.1',\n",
       " 'OL846289.1',\n",
       " 'QC-4055',\n",
       " 'QC-4204',\n",
       " 'QC-4205',\n",
       " 'QC-4249',\n",
       " 'USA/CT-Yale-12907/2021'}"
      ]
     },
     "execution_count": 98,
     "metadata": {},
     "output_type": "execute_result"
    }
   ],
   "source": [
    "samples_to_show"
   ]
  },
  {
   "cell_type": "code",
   "execution_count": 99,
   "metadata": {
    "ExecuteTime": {
     "end_time": "2022-02-18T18:50:43.566480Z",
     "start_time": "2022-02-18T18:50:43.557978Z"
    }
   },
   "outputs": [
    {
     "data": {
      "text/plain": [
       "98"
      ]
     },
     "execution_count": 99,
     "metadata": {},
     "output_type": "execute_result"
    }
   ],
   "source": [
    "subtree.count_terminals()"
   ]
  },
  {
   "cell_type": "code",
   "execution_count": 100,
   "metadata": {},
   "outputs": [],
   "source": [
    "for name, node in name_node.items():\n",
    "    if name in samples_to_show:\n",
    "        continue\n",
    "    subtree.prune(node)"
   ]
  },
  {
   "cell_type": "code",
   "execution_count": 101,
   "metadata": {},
   "outputs": [
    {
     "data": {
      "text/plain": [
       "22"
      ]
     },
     "execution_count": 101,
     "metadata": {},
     "output_type": "execute_result"
    }
   ],
   "source": [
    "subtree.count_terminals()"
   ]
  },
  {
   "cell_type": "code",
   "execution_count": 103,
   "metadata": {},
   "outputs": [],
   "source": [
    "subtree.root_with_outgroup('MN908947.3')"
   ]
  },
  {
   "cell_type": "code",
   "execution_count": 105,
   "metadata": {},
   "outputs": [
    {
     "data": {
      "text/plain": [
       "Clade()"
      ]
     },
     "execution_count": 105,
     "metadata": {},
     "output_type": "execute_result"
    }
   ],
   "source": [
    "subtree.prune('MN908947.3')"
   ]
  },
  {
   "cell_type": "code",
   "execution_count": 106,
   "metadata": {},
   "outputs": [
    {
     "data": {
      "text/plain": [
       "21"
      ]
     },
     "execution_count": 106,
     "metadata": {},
     "output_type": "execute_result"
    }
   ],
   "source": [
    "subtree.count_terminals()"
   ]
  },
  {
   "cell_type": "code",
   "execution_count": 107,
   "metadata": {
    "ExecuteTime": {
     "end_time": "2022-02-18T18:50:44.040823Z",
     "start_time": "2022-02-18T18:50:44.029674Z"
    }
   },
   "outputs": [
    {
     "data": {
      "text/plain": [
       "1"
      ]
     },
     "execution_count": 107,
     "metadata": {},
     "output_type": "execute_result"
    }
   ],
   "source": [
    "Phylo.write(subtree, 'tree-pruned.newick', 'newick', format_branch_length=\"%f\")"
   ]
  },
  {
   "cell_type": "code",
   "execution_count": null,
   "metadata": {},
   "outputs": [],
   "source": []
  }
 ],
 "metadata": {
  "kernelspec": {
   "display_name": "Python 3",
   "language": "python",
   "name": "python3"
  },
  "language_info": {
   "codemirror_mode": {
    "name": "ipython",
    "version": 3
   },
   "file_extension": ".py",
   "mimetype": "text/x-python",
   "name": "python",
   "nbconvert_exporter": "python",
   "pygments_lexer": "ipython3",
   "version": "3.10.5"
  }
 },
 "nbformat": 4,
 "nbformat_minor": 4
}
