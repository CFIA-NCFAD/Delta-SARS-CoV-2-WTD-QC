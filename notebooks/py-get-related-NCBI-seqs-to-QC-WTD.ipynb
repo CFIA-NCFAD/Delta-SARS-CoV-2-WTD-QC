{
 "cells": [
  {
   "cell_type": "markdown",
   "id": "26ecfaff",
   "metadata": {},
   "source": [
    "Fetch NCBI sequences using Entrez API with BioPython using a list of NCBI accessions."
   ]
  },
  {
   "cell_type": "code",
   "execution_count": 1,
   "id": "d2182f1d",
   "metadata": {},
   "outputs": [],
   "source": [
    "from Bio import Entrez"
   ]
  },
  {
   "cell_type": "code",
   "execution_count": 2,
   "id": "03570d3e",
   "metadata": {},
   "outputs": [],
   "source": [
    "Entrez.email = 'my@email.ca'"
   ]
  },
  {
   "cell_type": "code",
   "execution_count": 3,
   "id": "5020ad34",
   "metadata": {},
   "outputs": [],
   "source": [
    "accessions = []\n",
    "with open('2023-03-28-usher-ncbi-matching-accessions-qc-wtd.txt') as f:\n",
    "    for l in f:\n",
    "        l = l.strip()\n",
    "        if l:\n",
    "            accessions.append(l)"
   ]
  },
  {
   "cell_type": "code",
   "execution_count": 5,
   "id": "b176fac7",
   "metadata": {},
   "outputs": [
    {
     "data": {
      "text/plain": [
       "'MZ778090.1'"
      ]
     },
     "execution_count": 5,
     "metadata": {},
     "output_type": "execute_result"
    }
   ],
   "source": [
    "accessions[0]"
   ]
  },
  {
   "cell_type": "code",
   "execution_count": 6,
   "id": "d6ff6d76",
   "metadata": {},
   "outputs": [
    {
     "data": {
      "text/plain": [
       "91"
      ]
     },
     "execution_count": 6,
     "metadata": {},
     "output_type": "execute_result"
    }
   ],
   "source": [
    "len(accessions)"
   ]
  },
  {
   "cell_type": "code",
   "execution_count": 25,
   "id": "30c94ab7",
   "metadata": {},
   "outputs": [],
   "source": [
    "from Bio import SeqIO"
   ]
  },
  {
   "cell_type": "code",
   "execution_count": 26,
   "id": "705631dc",
   "metadata": {},
   "outputs": [],
   "source": [
    "with Entrez.efetch('nuccore', id=accessions, rettype='genbank', retmode='text') as handle:\n",
    "    gb_recs = {rec.id:rec for rec in SeqIO.parse(handle, format='genbank')}"
   ]
  },
  {
   "cell_type": "code",
   "execution_count": 28,
   "id": "fefbc17f",
   "metadata": {},
   "outputs": [],
   "source": [
    "r = gb_recs['MZ778090.1']"
   ]
  },
  {
   "cell_type": "code",
   "execution_count": 35,
   "id": "97b7d7d6",
   "metadata": {},
   "outputs": [],
   "source": [
    "import pandas as pd"
   ]
  },
  {
   "cell_type": "code",
   "execution_count": 12,
   "id": "ff0392fa",
   "metadata": {},
   "outputs": [],
   "source": [
    "import re"
   ]
  },
  {
   "cell_type": "code",
   "execution_count": 38,
   "id": "28fbd134",
   "metadata": {},
   "outputs": [],
   "source": [
    "d = {}\n",
    "for rid, r in gb_recs.items():\n",
    "    xs = {k:(v[0] if isinstance(v, list) and len(v) > 0 else \"\") for k,v in dict(r.features[0].qualifiers).items()}\n",
    "    d[rid] = xs\n",
    "df = pd.DataFrame(d).transpose()"
   ]
  },
  {
   "cell_type": "code",
   "execution_count": 42,
   "id": "7ea0a36a",
   "metadata": {},
   "outputs": [],
   "source": [
    "accs = []\n",
    "for x in list(recs.keys()):\n",
    "    acc = re.sub(r'([A-Z]{2}\\d{6}\\.\\d+) .*', r'\\1', x)\n",
    "    seqid = re.sub(r'.* SARS-CoV-2\\/[^\\/]+\\/([^\\/]+\\/[^\\/]+\\/\\d+) ?.*', r'\\1', x)\n",
    "    country_state = re.sub(r'(\\w+)\\/(\\w{2})-.*', r'\\1-\\2', seqid)\n",
    "    accs.append(acc)"
   ]
  },
  {
   "cell_type": "code",
   "execution_count": 44,
   "id": "88c3847a",
   "metadata": {},
   "outputs": [],
   "source": [
    "df.loc[accs,:].to_csv('ncbi-metadata.tsv', sep='\\t')"
   ]
  },
  {
   "cell_type": "code",
   "execution_count": 7,
   "id": "90baffb1",
   "metadata": {},
   "outputs": [],
   "source": [
    "from Bio.SeqIO.FastaIO import SimpleFastaParser"
   ]
  },
  {
   "cell_type": "code",
   "execution_count": 8,
   "id": "d371125e",
   "metadata": {},
   "outputs": [],
   "source": [
    "with Entrez.efetch('nuccore', id=accessions, rettype='fasta', retmode='text') as handle:\n",
    "    recs = {x:y for x,y in SimpleFastaParser(handle)}"
   ]
  },
  {
   "cell_type": "code",
   "execution_count": 9,
   "id": "e6bdd997",
   "metadata": {},
   "outputs": [
    {
     "data": {
      "text/plain": [
       "91"
      ]
     },
     "execution_count": 9,
     "metadata": {},
     "output_type": "execute_result"
    }
   ],
   "source": [
    "len(recs)"
   ]
  },
  {
   "cell_type": "code",
   "execution_count": 19,
   "id": "dd77f89c",
   "metadata": {},
   "outputs": [
    {
     "name": "stdout",
     "output_type": "stream",
     "text": [
      "MZ778090.1,USA-VT,USA/VT-CDCBI-CRSP_5IW5UTDXUN7AOCQU/2021\n",
      "MZ778136.1,USA-VT,USA/VT-CDCBI-CRSP_SO2IHR6YNWKCJN4Y/2021\n",
      "MZ801696.1,USA-VT,USA/VT-CDCBI-CRSP_AUR4GTIC2ZMQ3ZLV/2021\n",
      "MZ831124.1,USA-VT,USA/VT-CDCBI-CRSP_4IHFAXEAE5F6TANS/2021\n",
      "MZ831131.1,USA-VT,USA/VT-CDCBI-CRSP_5H6RL6A32MFYNCN2/2021\n",
      "MZ831138.1,USA-VT,USA/VT-CDCBI-CRSP_7VCLRORHOIPFO66B/2021\n",
      "MZ831153.1,USA-VT,USA/VT-CDCBI-CRSP_EUTCVQKUL5VOZBCL/2021\n",
      "MZ831164.1,USA-VT,USA/VT-CDCBI-CRSP_IVJSX6MOP5EQIZFH/2021\n",
      "MZ831171.1,USA-VT,USA/VT-CDCBI-CRSP_LZKAT6PIIUOE7ORV/2021\n",
      "MZ839391.1,USA-VT,USA/VT-CDCBI-CRSP_24YRWZD4TXLNFGGR/2021\n",
      "MZ839428.1,USA-VT,USA/VT-CDCBI-CRSP_KWP3WLUGM2KQGZQJ/2021\n",
      "MZ839443.1,USA-VT,USA/VT-CDCBI-CRSP_SHIKTLGSKTR4CFY6/2021\n",
      "MZ839450.1,USA-VT,USA/VT-CDCBI-CRSP_UQS4ILC3ZJ7RH5AW/2021\n",
      "MZ839452.1,USA-VT,USA/VT-CDCBI-CRSP_V6FHLZEXJSDAYK7S/2021\n",
      "MZ934190.1,USA-VT,USA/VT-CDCBI-CRSP_2CDYU2RU63EZEM2L/2021\n",
      "MZ934210.1,USA-VT,USA/VT-CDCBI-CRSP_7TPUX2HH3L3HKIYE/2021\n",
      "MZ934236.1,USA-VT,USA/VT-CDCBI-CRSP_FXJRSVFWTISHNWTH/2021\n",
      "MZ934251.1,USA-VT,USA/VT-CDCBI-CRSP_L6YXTFMLHZXFFVW6/2021\n",
      "MZ934268.1,USA-VT,USA/VT-CDCBI-CRSP_QEOEBO52UPAMUSK5/2021\n",
      "MZ934287.1,USA-VT,USA/VT-CDCBI-CRSP_TCM6ZOEHQAUBEYF4/2021\n",
      "MZ934302.1,USA-VT,USA/VT-CDCBI-CRSP_XENENIGVTORWRRGG/2021\n",
      "MZ948705.1,USA-VT,USA/VT-CDCBI-CRSP_5YSPETKM2IEROLWS/2021\n",
      "MZ948729.1,USA-VT,USA/VT-CDCBI-CRSP_G3OJXTLK6M6GWAXD/2021\n",
      "MZ948751.1,USA-VT,USA/VT-CDCBI-CRSP_MJ2A5NKFV3DVUIGB/2021\n",
      "MZ948766.1,USA-VT,USA/VT-CDCBI-CRSP_QKDYF6VGGVVBPDJ5/2021\n",
      "MZ948772.1,USA-VT,USA/VT-CDCBI-CRSP_S6L25LHWG7KORO6A/2021\n",
      "MZ948796.1,USA-VT,USA/VT-CDCBI-CRSP_ZLZUMVOBNHVGZPIE/2021\n",
      "MZ983317.1,USA-VT,USA/VT-CDCBI-CRSP_5MRVFUTUG275KNB4/2021\n",
      "MZ983349.1,USA-VT,USA/VT-CDCBI-CRSP_R7H36VPY52WGI3XJ/2021\n",
      "MZ983352.1,USA-VT,USA/VT-CDCBI-CRSP_TWAYUASGSTQPYMRW/2021\n",
      "OK020938.1,USA-VT,USA/VT-CDCBI-CRSP_NA5EGK2I3VOKITNN/2021\n",
      "OK021503.1,USA-VT,USA/VT-CDCBI-CRSP_LGIHBTDXOEE2ZZQR/2021\n",
      "OK021524.1,USA-VT,USA/VT-CDCBI-CRSP_VRYTN5ED74HRT4VY/2021\n",
      "OK034569.1,USA-VT,USA/VT-CDCBI-CRSP_DOPIPOLUKVITUHYC/2021\n",
      "OK035053.1,USA-NH,USA/NH-CDCBI-CRSP_NBWZNVZSPJWNDJJO/2021\n",
      "OK035071.1,USA-VT,USA/VT-CDCBI-CRSP_6OW3YJHFDEAYPOSQ/2021\n",
      "OK035123.1,USA-VT,USA/VT-CDCBI-CRSP_KU2NE2HF7JGMBVUD/2021\n",
      "OK035160.1,USA-VT,USA/VT-CDCBI-CRSP_TRAQ5FJLQWYVAHCC/2021\n",
      "OK035176.1,USA-VT,USA/VT-CDCBI-CRSP_Z3QKFANE5WS2WMHN/2021\n",
      "OK036272.1,USA-VT,USA/VT-CDCBI-CRSP_RBTSAXWC7HWZMQUT/2021\n",
      "OK088240.1,USA-VT,USA/VT-CDCBI-CRSP_AKY7O55DQGOE4XFV/2021\n",
      "OK088791.1,USA-VT,USA/VT-CDCBI-CRSP_6IHREKLHC7RQMXAX/2021\n",
      "OK089306.1,USA-VT,USA/VT-CDCBI-CRSP_547EWDUNMCDYOVCV/2021\n",
      "OK089307.1,USA-VT,USA/VT-CDCBI-CRSP_5F6BUIKMCLB56KY7/2021\n",
      "OK089353.1,USA-VT,USA/VT-CDCBI-CRSP_TZWKP5Y4VVT23WW5/2021\n",
      "OK089361.1,USA-VT,USA/VT-CDCBI-CRSP_X6H5QFLZDKJ2RO7J/2021\n",
      "OK089805.1,USA-ME,USA/ME-CDCBI-CRSP_LDR2UZZ2YBVINSGY/2021\n",
      "OK119356.1,USA-FL,USA/FL-CDC-ASC210119084/2021\n",
      "OK119994.1,USA-VT,USA/VT-CDC-ASC210192205/2021\n",
      "OK176181.1,USA-VT,USA/VT-CDCBI-CRSP_Y6VJHUAHGJK2FMJ6/2021\n",
      "OK177731.1,USA-VT,USA/VT-CDCBI-CRSP_BSAFIJQKB6RJIOEO/2021\n",
      "OK177765.1,USA-VT,USA/VT-CDCBI-CRSP_LDFJDMKD2KLWMCTZ/2021\n",
      "OK177772.1,USA-VT,USA/VT-CDCBI-CRSP_MCSU6SFRFNGOZKJI/2021\n",
      "OK177797.1,USA-VT,USA/VT-CDCBI-CRSP_TMJTZJAIZKX62AEO/2021\n",
      "OK179639.1,USA-VT,USA/VT-CDCBI-CRSP_E2XT7FAVXBWJDT55/2021\n",
      "OK276436.1,USA-VT,USA/VT-CDC-LC0256309/2021\n",
      "OK286946.1,USA-VT,USA/VT-CDCBI-CRSP_7NJWPJMPWMLCLOBL/2021\n",
      "OK287000.1,USA-VT,USA/VT-CDCBI-CRSP_RDSMN4EQQW5ZPA2K/2021\n",
      "OK352897.1,USA-VT,USA/VT-CDCBI-CRSP_HCV46IFXYC5HY3KH/2021\n",
      "OK352904.1,USA-VT,USA/VT-CDCBI-CRSP_KKJW7PACUD6EYFXZ/2021\n",
      "OK352911.1,USA-VT,USA/VT-CDCBI-CRSP_OKGID237HB4YWQEJ/2021\n",
      "OK353553.1,USA-VT,USA/VT-CDCBI-CRSP_NVE6DG4X4QUUIR2Z/2021\n",
      "OK403350.1,USA-VT,USA/VT-CDC-ASC210278010/2021\n",
      "OK428432.1,USA-VT,USA/VT-CDCBI-CRSP_AXE2UYWFIKHF7FEJ/2021\n",
      "OK428453.1,USA-VT,USA/VT-CDCBI-CRSP_HPUPLSFQ5AL4MHR6/2021\n",
      "OK443367.1,USA-VT,USA/VT-CDC-QDX28938923/2021\n",
      "OK443635.1,USA-VT,USA/VT-CDC-QDX28938927/2021\n",
      "OK463722.1,USA-VT,USA/VT-CDC-QDX29125634/2021\n",
      "OK575658.1,USA-VT,USA/VT-CDCBI-CRSP_KVUBSXHEL7BLDOJG/2021\n",
      "OK591210.1,USA-MA,USA/MA-CDCBI-CRSP_LJPUMDWLHKAL75PX/2021\n",
      "OK712766.1,USA-VT,USA/VT-CDCBI-CRSP_MWYQNUS353RVZQYW/2021\n",
      "OK712788.1,USA-VT,USA/VT-CDCBI-CRSP_RF55UV4CZYWOPQVG/2021\n",
      "OK712805.1,USA-VT,USA/VT-CDCBI-CRSP_W2BIDO6TWSDEFNFD/2021\n",
      "OL304737.1,USA-VT,USA/VT-CDCBI-CRSP_AETEIXI3KHWHQ6GR/2021\n",
      "OL360169.1,USA-VT,USA/VT-CDC-QDX30240409/2021\n",
      "OL362900.1,USA-VT,USA/VT-CDCBI-CRSP_XGBVQZOERBOD7FDH/2021\n",
      "OL406756.1,USA-MA,USA/MA-CDCBI-CRSP_QNBPQWZTDUW3D55B/2021\n",
      "OL545631.1,USA-MA,USA/MA-CDCBI-CRSP_HHOP7IWO2REJHMAJ/2021\n",
      "OL545701.1,USA-MA,USA/MA-CDCBI-CRSP_MWP2FW6VVGDMJQ75/2021\n",
      "OL545998.1,USA-VT,USA/VT-CDCBI-CRSP_66GFWJPUBLMKG6RC/2021\n",
      "OL546091.1,USA-VT,USA/VT-CDCBI-CRSP_UCU6OE54XDU6EM5E/2021\n",
      "OL564517.1,USA-ME,USA/ME-CDC-ASC210447903/2021\n",
      "OL599608.1,USA-MA,USA/MA-CDCBI-CRSP_6I2Y3E7BT2JK4N24/2021\n",
      "OL661996.1,USA-MA,USA/MA-CDCBI-CRSP_URZHF7MYVPOJIBR5/2021\n",
      "OL662092.1,USA-VT,USA/VT-CDCBI-CRSP_6D573IYXNSEZFMSF/2021\n",
      "OL662700.1,USA-VT,USA/VT-CDCBI-CRSP_ITZDU7EEMDEHZE64/2021\n",
      "OL662701.1,USA-VT,USA/VT-CDCBI-CRSP_IYX5JRHV3P3V2YDK/2021\n",
      "OL662716.1,USA-VT,USA/VT-CDCBI-CRSP_LVASKRPVJJ6R4CJ7/2021\n",
      "OL718610.1,USA-VT,USA/VT-CDCBI-CRSP_6KKBDPHAUWLICYW3/2021\n",
      "OL846289.1,USA-MA,USA/MA-CDCBI-CRSP_MQVYXL5AXPMPIHZW/2021\n",
      "OP930368.1,USA-TB,USA/TB-90020432/2021\n"
     ]
    }
   ],
   "source": [
    "for x in list(recs.keys()):\n",
    "    acc = re.sub(r'([A-Z]{2}\\d{6}\\.\\d+) .*', r'\\1', x)\n",
    "    seqid = re.sub(r'.* SARS-CoV-2\\/[^\\/]+\\/([^\\/]+\\/[^\\/]+\\/\\d+) ?.*', r'\\1', x)\n",
    "    country_state = re.sub(r'(\\w+)\\/(\\w{2})-.*', r'\\1-\\2', seqid)\n",
    "    print(f'{acc},{country_state},{seqid}')"
   ]
  },
  {
   "cell_type": "code",
   "execution_count": 22,
   "id": "b956bbd6",
   "metadata": {},
   "outputs": [],
   "source": [
    "with open('2023-03-28-NCBI-related-seqs-to-QC-WTD.fasta', 'w') as fout:\n",
    "    for x, seq in recs.items():\n",
    "        acc = re.sub(r'([A-Z]{2}\\d{6}\\.\\d+) .*', r'\\1', x)\n",
    "        seqid = re.sub(r'.* SARS-CoV-2\\/[^\\/]+\\/([^\\/]+\\/[^\\/]+\\/\\d+) ?.*', r'\\1', x)\n",
    "        country_state = re.sub(r'(\\w+)\\/(\\w{2})-.*', r'\\1-\\2', seqid)\n",
    "        fout.write(f'>{acc}\\n{seq}\\n')"
   ]
  },
  {
   "cell_type": "code",
   "execution_count": 23,
   "id": "3498b49f",
   "metadata": {},
   "outputs": [],
   "source": [
    "!cat qc-wtd.fasta 2023-03-22-GISAID-related-seqs-to-QC-WTD.fasta 2023-03-28-NCBI-related-seqs-to-QC-WTD.fasta > 2023-03-29-QC-WTD-and-related-GISAID-NCBI-seqs.fasta"
   ]
  },
  {
   "cell_type": "code",
   "execution_count": null,
   "id": "df5cdab5",
   "metadata": {},
   "outputs": [],
   "source": []
  }
 ],
 "metadata": {
  "kernelspec": {
   "display_name": "Python 3",
   "language": "python",
   "name": "python3"
  },
  "language_info": {
   "codemirror_mode": {
    "name": "ipython",
    "version": 3
   },
   "file_extension": ".py",
   "mimetype": "text/x-python",
   "name": "python",
   "nbconvert_exporter": "python",
   "pygments_lexer": "ipython3",
   "version": "3.10.5"
  }
 },
 "nbformat": 4,
 "nbformat_minor": 5
}
